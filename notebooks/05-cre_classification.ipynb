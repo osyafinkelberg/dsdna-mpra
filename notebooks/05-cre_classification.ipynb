{
 "cells": [
  {
   "cell_type": "code",
   "execution_count": 1,
   "metadata": {},
   "outputs": [],
   "source": [
    "from pathlib import Path\n",
    "import sys\n",
    "import json\n",
    "\n",
    "import numpy as np\n",
    "import pandas as pd\n",
    "from sklearn.metrics import confusion_matrix\n",
    "import torch\n",
    "\n",
    "import matplotlib.pyplot as plt\n",
    "from matplotlib.colors import ListedColormap\n",
    "import seaborn as sns\n",
    "sns.set_theme(font_scale=1.5, palette='Set2')\n",
    "sns.set_style('whitegrid')\n",
    "from tqdm import tqdm\n",
    "\n",
    "%load_ext autoreload\n",
    "%autoreload 2\n",
    "\n",
    "sys.path.insert(0, '..')\n",
    "from dsdna_mpra import config, plots\n"
   ]
  },
  {
   "cell_type": "markdown",
   "metadata": {},
   "source": [
    "ENCODE data annotation and preprocessing are performed in [`cre_classifier_dataset_preparation.py`](../scripts/cre_classifier_dataset_preparation.py).\n",
    "\n",
    "The CRE classifier model is trained and saved using [`cre_classifier_training.py`](../scripts/cre_classifier_training.py).\n",
    "\n",
    "Predictions of CRE classes for the ENCODE test set and viral tiles are generated using [`cre_classifier_inference.py`](../scripts/cre_classifier_inference.py).\n"
   ]
  },
  {
   "cell_type": "markdown",
   "metadata": {},
   "source": [
    "### Performance on the ENCODE CRE Test Set\n"
   ]
  },
  {
   "cell_type": "code",
   "execution_count": 2,
   "metadata": {},
   "outputs": [],
   "source": [
    "test_predictions = pd.read_csv(config.RESULTS_DIR / 'encode_validation_classification.csv')\n",
    "\n",
    "class_pred = [config.ENCODE_CRE_TYPES.index(pred_class) for pred_class in test_predictions.predicted_class]\n",
    "class_gt = [config.ENCODE_CRE_TYPES.index(pred_class) for pred_class in test_predictions.real_class]\n"
   ]
  },
  {
   "cell_type": "code",
   "execution_count": 3,
   "metadata": {},
   "outputs": [],
   "source": [
    "for normalization_type, figure_name in [\n",
    "    [None, 'fig_S3_confusion_matrix'],\n",
    "    ['pred', 'fig_S3B_cre_class_precision'],\n",
    "    ['true', 'fig_S3C_cre_class_recall'],\n",
    "]:\n",
    "    pred_matrix = confusion_matrix(class_gt, class_pred, normalize=normalization_type)\n",
    "    fig, ax = plt.subplots(figsize=(8, 8))\n",
    "    ax.set_title(f\"CRE Classifier ('{normalization_type}'-normalization)\", fontsize=17)\n",
    "    if normalization_type is not None:\n",
    "        img = ax.imshow(pred_matrix, cmap=\"Reds\", vmax=1, vmin=0)\n",
    "    else:\n",
    "        img = ax.imshow(pred_matrix, cmap=\"Reds\")\n",
    "    ax.set_xticks(np.arange(8), config.ENCODE_CRE_TYPES, rotation=90, fontsize=12)\n",
    "    ax.set_yticks(np.arange(8), config.ENCODE_CRE_TYPES, fontsize=12)\n",
    "    ax.set_ylabel('True', fontsize=15)\n",
    "    ax.set_xlabel('Predicted', fontsize=15)\n",
    "    ax.grid(False)\n",
    "    cbar_ax = fig.add_axes([.92, 0.2, 0.02, 0.6])\n",
    "    cbar = fig.colorbar(img, cax=cbar_ax)\n",
    "    cbar.set_label('Number / Fraction of ENCODE CREs', fontsize=15)\n",
    "    plt.savefig(config.FIGURES_DIR / f\"{figure_name}.pdf\", format=\"pdf\", bbox_inches=\"tight\")\n",
    "    pred_matrix = pd.DataFrame(pred_matrix, columns=config.ENCODE_CRE_TYPES)\n",
    "    pred_matrix.insert(0, 'CRE-type', config.ENCODE_CRE_TYPES)\n",
    "    pred_matrix.to_csv(config.RESULTS_DIR / f\"{figure_name}.csv\", index=False)\n",
    "    plt.close()\n"
   ]
  },
  {
   "cell_type": "markdown",
   "metadata": {},
   "source": [
    "### Classifier predictions for viral tiles active in K562 cells\n"
   ]
  },
  {
   "cell_type": "markdown",
   "metadata": {},
   "source": [
    "Proportion of each predicted class in viral CREs and in the ENCODE test set of real CRE sequences.\n"
   ]
  },
  {
   "cell_type": "code",
   "execution_count": 4,
   "metadata": {},
   "outputs": [],
   "source": [
    "test_predictions['predicted_class_short'] = np.where(\n",
    "    test_predictions.predicted_class.str.contains('shuffled'),\n",
    "    'Undetermined', test_predictions.predicted_class,\n",
    ")\n",
    "test_predictions.predicted_class_short = test_predictions.predicted_class_short.astype('category').cat.set_categories(config.ENCODE_CRE_TYPES_SHORT)\n",
    "real_test_predictions = test_predictions[~test_predictions['real_class'].str.contains('shuffled')]\n",
    "\n",
    "virus_predictions = pd.read_csv(config.RESULTS_DIR / 'k562_active_tiles_classification.csv')\n",
    "virus_predictions['virus'] = (virus_predictions.family + ', ' + virus_predictions.strain).astype('category').cat.set_categories(config.VIRUSES)\n",
    "virus_predictions['predicted_class_short'] = np.where(\n",
    "    virus_predictions.predicted_class.str.contains('shuffled'),\n",
    "    'Undetermined', virus_predictions.predicted_class,\n",
    ")\n",
    "virus_predictions.predicted_class_short = virus_predictions.predicted_class_short.astype('category').cat.set_categories(config.ENCODE_CRE_TYPES_SHORT)\n",
    "\n",
    "class_counts = virus_predictions.value_counts(['virus', 'predicted_class_short']).to_frame().reset_index().pivot(columns='virus', index='predicted_class_short', values='count')\n",
    "class_counts = class_counts.replace(np.nan, 0)\n",
    "class_counts['ENCODE test set'] = real_test_predictions.value_counts('predicted_class_short', sort=False)\n",
    "class_counts.div(class_counts.sum()).to_csv(config.RESULTS_DIR / \"fig_2D_cre_classifier_class_fractions.csv\")\n"
   ]
  },
  {
   "cell_type": "markdown",
   "metadata": {},
   "source": [
    "MPRA activity levels for CREs grouped by predicted class.\n"
   ]
  },
  {
   "cell_type": "code",
   "execution_count": 5,
   "metadata": {},
   "outputs": [],
   "source": [
    "paired_tiles = pd.read_csv(config.RESULTS_DIR / \"virus_paired_tiles_cds_overlap.csv\")\n",
    "paired_tiles = paired_tiles[paired_tiles.tile_id.isin(virus_predictions.tile_id)].reset_index(drop=True)\n",
    "paired_tiles = paired_tiles.merge(virus_predictions[['tile_id', 'predicted_class_short']], on='tile_id', how='left')\n"
   ]
  },
  {
   "cell_type": "code",
   "execution_count": 6,
   "metadata": {},
   "outputs": [],
   "source": [
    "thresholds = pd.read_csv(config.RESULTS_DIR / 'thresholds_log2_1p.csv')\n",
    "\n",
    "fig, axes = plt.subplots(figsize=(20, 14), nrows=2, ncols=3, layout=\"tight\")\n",
    "for cell_index, cell in enumerate(config.CELL_LINES[::-1]):\n",
    "    ax = axes[cell_index // 3, cell_index % 3]\n",
    "    cell_tiles = paired_tiles[paired_tiles.cell == cell]\n",
    "    for pred_class, class_df in cell_tiles.groupby('predicted_class_short', observed=False):\n",
    "        plots.violin(\n",
    "            ax, class_df[['fwd_lfc', 'rev_lfc']].max(1),\n",
    "            config.ENCODE_CRE_TYPES_SHORT.index(pred_class) * 7,\n",
    "            width_factor=3, box_width=.4, text=False\n",
    "        )\n",
    "    ax.axhline(thresholds[thresholds.cell == cell].threshold.iloc[0], linestyle='--', color='red')\n",
    "    ax.set_ylim([0, 8])\n",
    "    ax.grid(False)\n",
    "    ax.set_title(cell)\n",
    "    if cell_index % 3 == 0:\n",
    "        ax.set_ylabel(r'$\\log_2 (\\frac{RNA}{DNA} + 1)$')\n",
    "    if cell_index // 3 == 1:\n",
    "        ax.set_xticklabels(config.ENCODE_CRE_TYPES_SHORT, rotation=90)\n",
    "plt.savefig(config.FIGURES_DIR / 'fig_2E_cre_classes_activity_by_cell_line.pdf', format=\"pdf\", bbox_inches=\"tight\")\n",
    "plt.close(fig)\n"
   ]
  },
  {
   "cell_type": "markdown",
   "metadata": {},
   "source": [
    "MPRA activity of CREs in each class across different viruses.\n"
   ]
  },
  {
   "cell_type": "code",
   "execution_count": 7,
   "metadata": {},
   "outputs": [],
   "source": [
    "n_families = len(config.DSDNA_FAMILIES)\n",
    "n_strains_per_family = paired_tiles.drop_duplicates(['family', 'strain']).value_counts('family')\n",
    "class_activity = paired_tiles.groupby(['family', 'strain', 'cell', 'predicted_class_short'], observed=True).median('cell_rank').reset_index()[['family', 'strain', 'cell', 'predicted_class_short', 'cell_rank']]\n",
    "class_activity['virus'] = (class_activity.family + ', ' + class_activity.strain).astype('category').cat.set_categories(config.VIRUSES)\n",
    "class_activity.family = class_activity.family.astype('category').cat.set_categories(config.DSDNA_FAMILIES[::-1])\n",
    "\n",
    "orig_cmap = plt.get_cmap('Reds')\n",
    "mild_cmap = orig_cmap(np.linspace(0, 1, 256))\n",
    "mild_cmap = 0.9 * mild_cmap + 0.1  # blend with white to desaturate\n",
    "mild_cmap = np.clip(mild_cmap, 0, 1)\n",
    "mild_cmap = ListedColormap(mild_cmap)\n",
    "mild_cmap.set_bad(color='lightgrey')\n",
    "\n",
    "fig, axes = plt.subplots(figsize=(23, 15), nrows=n_families, ncols=len(config.CELL_LINES), height_ratios=n_strains_per_family)\n",
    "for cell_idx, cell in enumerate(config.CELL_LINES):\n",
    "    cell_activity = class_activity[class_activity.cell == cell].pivot_table(values='cell_rank', index=['family', 'virus', 'strain'], columns='predicted_class_short', observed=True).reset_index()\n",
    "    for fam_idx, (family, family_activity) in enumerate(cell_activity.groupby('family', observed=False)):\n",
    "        ax = axes[fam_idx, cell_idx]\n",
    "        title_args={'label': f\"{cell}\", 'fontsize': 15} if fam_idx == 0 else None\n",
    "        img = plots.heatmap_with_stats(\n",
    "            ax, family_activity[['virus'] + config.ENCODE_CRE_TYPES_SHORT].set_index('virus'),\n",
    "            imshow_args={'cmap': mild_cmap, 'vmin': .75, 'vmax': 1, 'norm': None},\n",
    "            title_args=title_args, text_fontsize=12\n",
    "        )\n",
    "        if fam_idx != 0:\n",
    "            ax.tick_params(axis='x', which='both', top=False, labeltop=False)\n",
    "        if cell_idx != 0:\n",
    "            ax.tick_params(axis='y', which='both', left=False, labelleft=False)\n",
    "fig.subplots_adjust(right=1.2, wspace=.1)\n",
    "cbar_ax = fig.add_axes([1.25, 0.15, 0.02, 0.7])\n",
    "cbar = fig.colorbar(img, cax=cbar_ax)\n",
    "cbar.set_label('Cell activity rank')\n",
    "plt.savefig(config.FIGURES_DIR / 'fig_S3G_cre_classes_activity_by_cell_line_by_virus.pdf', format=\"pdf\", bbox_inches=\"tight\")\n",
    "plt.close(fig)\n"
   ]
  },
  {
   "cell_type": "markdown",
   "metadata": {},
   "source": [
    "Proportions of predicted classes within coding and non-coding regions.\n"
   ]
  },
  {
   "cell_type": "code",
   "execution_count": 8,
   "metadata": {},
   "outputs": [],
   "source": [
    "class_cds_counts = virus_predictions.value_counts(['is_cds', 'predicted_class_short']).to_frame().reset_index().pivot(columns='is_cds', index='predicted_class_short', values='count')\n",
    "class_cds_counts.to_csv(config.RESULTS_DIR / \"fig_3H_cre_classifier_in_cds_counts.csv\")\n",
    "class_cds_counts.div(class_cds_counts.sum()).to_csv(config.RESULTS_DIR / \"fig_3H_cre_classifier_in_cds_fractions.csv\")\n"
   ]
  },
  {
   "cell_type": "markdown",
   "metadata": {},
   "source": [
    "Proportions of CREs located in coding sequences for each CRE class across different viruses.\n"
   ]
  },
  {
   "cell_type": "code",
   "execution_count": 9,
   "metadata": {},
   "outputs": [],
   "source": [
    "class_cds_counts = virus_predictions.value_counts(\n",
    "    ['virus', 'predicted_class_short', 'is_cds']\n",
    ").to_frame(name='count').reset_index()\n",
    "pivoted_counts = class_cds_counts.pivot_table(index=['virus', 'is_cds'], columns='predicted_class_short', values='count', fill_value=0, observed=False)\n",
    "# normalize within each (virus, is_cds) group to get fractions of each class\n",
    "class_fractions_within_cds = pivoted_counts.div(pivoted_counts.sum(axis=1), axis=0)\n",
    "fractions_table = class_fractions_within_cds.unstack(level='is_cds')\n",
    "cols = fractions_table.columns\n",
    "new_cols = [\n",
    "    (cls, is_cds)\n",
    "    for cls in config.ENCODE_CRE_TYPES_SHORT\n",
    "    for is_cds in [True, False]\n",
    "    if (cls, is_cds) in cols\n",
    "]\n",
    "fractions_table = fractions_table[new_cols]\n",
    "fractions_table.to_csv(config.RESULTS_DIR / \"fig_3I_fractions_of_classes_within_cds.csv\")\n"
   ]
  },
  {
   "cell_type": "markdown",
   "metadata": {},
   "source": [
    "Distribution of the number of transcription factor (TF) motif instances in each CRE class.\n"
   ]
  },
  {
   "cell_type": "code",
   "execution_count": 10,
   "metadata": {},
   "outputs": [],
   "source": [
    "with open(config.RESULTS_DIR / \"malinois_K562_tf_motif_map.json\", 'r', encoding='utf-8') as f:\n",
    "    tile_motif_map = {\n",
    "        tile_map['tile_id']: tile_map\n",
    "        for tile_map in json.load(f)\n",
    "    }\n"
   ]
  },
  {
   "cell_type": "code",
   "execution_count": 11,
   "metadata": {},
   "outputs": [],
   "source": [
    "npeaks_per_class = dict()\n",
    "for pred_class, class_df in virus_predictions.groupby('predicted_class_short', observed=False):\n",
    "    npeaks_per_class[pred_class] = np.array([\n",
    "        len(tile_motif_map[tile_id]['peak_positions'])\n",
    "        for tile_id in class_df.tile_id.values\n",
    "    ])\n",
    "\n",
    "cre_colors = {\n",
    "    'Promoter-like': 'firebrick',\n",
    "    'Proximal': 'orange',\n",
    "    'Distal': 'cornflowerblue',\n",
    "    'CTCF-only': 'forestgreen',\n",
    "    'Undetermined': 'grey'\n",
    "}\n",
    "fig, ax = plt.subplots(figsize=(10, 7))\n",
    "npeaks_grid = np.arange(9)\n",
    "for pred_class, npeaks in npeaks_per_class.items():\n",
    "    cum_density = np.less_equal.outer(npeaks_grid, npeaks).mean(axis=1)\n",
    "    ax.plot(npeaks_grid, cum_density, color=cre_colors[pred_class], linewidth=5, label=pred_class)\n",
    "ax.set_ylabel('Cumulative density')\n",
    "ax.set_xlabel('Number of motifs per tile')\n",
    "ax.legend(loc='upper right')\n",
    "ax.grid(False)\n",
    "fig.savefig(config.FIGURES_DIR / 'fig_3J_number_motifs_per_cre_class_tile.pdf', format='pdf', bbox_inches='tight')\n",
    "plt.close()\n"
   ]
  },
  {
   "cell_type": "markdown",
   "metadata": {},
   "source": [
    "Proportion of tiles containing transcription start sites (TSS) in different CRE classes.\n"
   ]
  },
  {
   "cell_type": "code",
   "execution_count": 12,
   "metadata": {},
   "outputs": [],
   "source": [
    "cage_tiles = pd.read_csv(config.RESULTS_DIR / \"virus_paired_tiles_cage_peaks_overlap.csv\")\n",
    "cage_tiles = cage_tiles[cage_tiles.cell == 'K562'].reset_index(drop=True)\n",
    "cage_tiles['virus'] = (cage_tiles.family + ', ' + cage_tiles.strain).astype('category').cat.set_categories(config.VIRUSES)\n",
    "cage_tiles = cage_tiles.merge(virus_predictions.drop_duplicates('tile_id')[['tile_id', 'predicted_class_short']].astype(str), on='tile_id', how='left')\n",
    "cage_tiles.loc[cage_tiles.predicted_class_short.isna(), 'predicted_class_short'] = 'Not CRE'\n",
    "cage_tiles.predicted_class_short = cage_tiles.predicted_class_short.astype('category').cat.set_categories(config.ENCODE_CRE_TYPES_SHORT + ['Not CRE'])\n",
    "class_cage_overlap = cage_tiles.value_counts(['virus', 'is_cage_peak', 'predicted_class_short'], sort=False).to_frame().reset_index()\n",
    "class_cage_overlap.to_csv(config.RESULTS_DIR / 'fig_3K_cre_classes_cage_overlap.csv', index=False)\n"
   ]
  },
  {
   "cell_type": "markdown",
   "metadata": {},
   "source": [
    "### TFBS Frequency in CRE Classes\n",
    "\n",
    "Malinois K562 contribution scores and TF motif annotation for ENCODE CRE sequences are performed using [`tf_motif_annotation_encode_cres.py`](../scripts/tf_motif_annotation_encode_cres.py).\n"
   ]
  },
  {
   "cell_type": "code",
   "execution_count": 13,
   "metadata": {},
   "outputs": [],
   "source": [
    "thresholds_df = pd.read_csv(config.RESULTS_DIR / 'thresholds_malinois_log2_1p.csv')[['cell', 'threshold']]\n",
    "K562_THRESHOLD = thresholds_df[thresholds_df.cell == 'k562'].threshold.iloc[0]\n",
    "\n",
    "tfbs_counts_tiles = pd.read_csv(config.RESULTS_DIR / \"malinois_K562_tfbs_counts_virus_tiles.csv\")\n",
    "tfbs_counts_tiles = tfbs_counts_tiles[\n",
    "    (tfbs_counts_tiles.malinois_k562_lfc >= K562_THRESHOLD) &\n",
    "    (tfbs_counts_tiles.tile_id.isin(virus_predictions.tile_id))\n",
    "].merge(virus_predictions.drop_duplicates('tile_id')[['tile_id', 'predicted_class_short']], on='tile_id', how='left')\n",
    "tfbs_counts_tiles.virus = tfbs_counts_tiles.virus.astype('category').cat.set_categories(config.VIRUSES)\n",
    "\n",
    "tfbs_counts_encode = pd.read_csv(config.RESULTS_DIR / \"malinois_K562_tfbs_counts_encode_cres.csv\")\n",
    "tfbs_counts_encode = tfbs_counts_encode[tfbs_counts_encode.malinois_k562_lfc >= K562_THRESHOLD]\n"
   ]
  },
  {
   "cell_type": "code",
   "execution_count": 14,
   "metadata": {},
   "outputs": [],
   "source": [
    "virus_means = tfbs_counts_tiles.groupby(\n",
    "    [\"virus\", \"predicted_class_short\"], observed=False\n",
    ")[config.TF_GENES_K562].mean().reset_index().set_index('virus')\n",
    "\n",
    "encode_means = (\n",
    "    tfbs_counts_encode.groupby('encode_region_type')[config.TF_GENES_K562].mean()\n",
    "    .pipe(lambda df: pd.concat([\n",
    "        df, pd.DataFrame([tfbs_counts_encode[config.TF_GENES_K562].mean()], index=['all CREs'])\n",
    "    ]))\n",
    ")\n",
    "\n",
    "pseudocount = 1e-2\n",
    "tfbs_enrichment = list()\n",
    "for cre_type, virus_cres in virus_means.groupby('predicted_class_short', observed=True):\n",
    "    if cre_type == 'Undetermined':\n",
    "        continue\n",
    "    encode_means.loc[cre_type]\n",
    "    ratio = np.log2((virus_cres[config.TF_GENES_K562] + pseudocount).div(encode_means.loc[cre_type] + pseudocount)).reset_index()\n",
    "    ratio.insert(0, 'cre_type', cre_type)\n",
    "    tfbs_enrichment.append(ratio)\n",
    "pd.concat(tfbs_enrichment, ignore_index=True).to_csv(config.RESULTS_DIR / \"fig_S4B_log2_virus_over_encode_ratio_by_cre_types_ps1e-2.csv\", index=False)\n"
   ]
  },
  {
   "cell_type": "markdown",
   "metadata": {},
   "source": [
    "Genome-wide MPRA activity, including predicted CRE types, is visualized using the [`plot_mpra_activity_genomewide.py`](../scripts/plot_mpra_activity_genomewide.py) script.\n"
   ]
  },
  {
   "cell_type": "code",
   "execution_count": null,
   "metadata": {},
   "outputs": [],
   "source": []
  }
 ],
 "metadata": {
  "kernelspec": {
   "display_name": "Python 3",
   "language": "python",
   "name": "python3"
  },
  "language_info": {
   "codemirror_mode": {
    "name": "ipython",
    "version": 3
   },
   "file_extension": ".py",
   "mimetype": "text/x-python",
   "name": "python",
   "nbconvert_exporter": "python",
   "pygments_lexer": "ipython3",
   "version": "3.12.9"
  }
 },
 "nbformat": 4,
 "nbformat_minor": 2
}
