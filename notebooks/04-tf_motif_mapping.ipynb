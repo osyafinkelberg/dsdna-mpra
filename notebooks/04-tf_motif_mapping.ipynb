{
 "cells": [
  {
   "cell_type": "code",
   "execution_count": 1,
   "metadata": {},
   "outputs": [],
   "source": [
    "from pathlib import Path\n",
    "import sys\n",
    "import json\n",
    "\n",
    "import numpy as np\n",
    "import pandas as pd\n",
    "import matplotlib.pyplot as plt\n",
    "import seaborn as sns\n",
    "sns.set_theme(font_scale=1.5, palette='Set2')\n",
    "sns.set_style('whitegrid')\n",
    "\n",
    "import logomaker\n",
    "from IPython.display import HTML\n",
    "from bs4 import BeautifulSoup\n",
    "\n",
    "%load_ext autoreload\n",
    "%autoreload 2\n",
    "\n",
    "sys.path.insert(0, '..')\n",
    "import dsdna_mpra\n",
    "from dsdna_mpra import config, motifs, plots"
   ]
  },
  {
   "cell_type": "markdown",
   "metadata": {},
   "source": [
    "**Preprocessing**\n",
    "\n",
    "1. **Compute Contribution Scores**  \n",
    "   Contribution scores &mdash; quantifying the influence of input features on Malinois model predictions &mdash; are computed for viral tiles and human K562 DNase I hypersensitive sites (DHSs) using the script [`compute_contribution_scores.py`](../scripts/compute_contribution_scores.py).\n",
    "\n",
    "2. **Motif Discovery and Annotation**  \n",
    "   [TF-MoDISco-lite](https://github.com/jmschrei/tfmodisco-lite) is applied to the concatenated hypothetical contribution scores of viral tiles and K562 DHSs to identify motif matrices. Motifs are then matched against the SCENIC human transcription factor (TF) motif collection using TOMTOM.\n",
    "\n",
    "   ```bash\n",
    "   modisco motifs \\\n",
    "     -s \"${PROCESSED_DIR}/malinois_K562_onehot_sequences.npz\" \\\n",
    "     -a \"${PROCESSED_DIR}/malinois_K562_contribution_scores.npz\" \\\n",
    "     --window 200 \\\n",
    "     -n 1000000 \\\n",
    "     -o \"${PROCESSED_DIR}/malinois_K562_modisco_results.h5\" \\\n",
    "     -v\n",
    "\n",
    "   modisco report \\\n",
    "     -i \"${PROCESSED_DIR}/malinois_K562_modisco_results.h5\" \\\n",
    "     -m \"${RAW_DIR}/scenic_human_motif_collection.meme\" \\\n",
    "     -o \"${PROCESSED_DIR}/malinois_K562_modisco_report/\" \\\n",
    "     -s \"${PROCESSED_DIR}/malinois_K562_modisco_report/\"\n",
    "   ```\n",
    "\n",
    "3. **TF Family Assignment**\n",
    "\n",
    "   Motif matrices output by TF-MoDISco-lite are postprocessed using the script [`tfmodisco_postprocessing.py`](../scripts/tfmodisco_postprocessing.py). Transcription factor (TF) gene families are manually assigned to each motif based on TOMTOM alignment results. The final curated motif collection includes:\n",
    "    - TF-MoDISco-lite motifs  \n",
    "    - E2F transcription factor motif matrix  \n",
    "    - 3′ splice site position weight matrix (PWM)\n"
   ]
  },
  {
   "cell_type": "markdown",
   "metadata": {},
   "source": [
    "- Motifs Identified by TF-MoDISco-lite and Matched via TOMTOM\n"
   ]
  },
  {
   "cell_type": "code",
   "execution_count": 2,
   "metadata": {},
   "outputs": [
    {
     "data": {
      "text/html": [
       "<table>\n",
       "<tr style=\"text-align: right;\">\n",
       "<th></th>\n",
       "<th>pattern</th>\n",
       "<th>modisco_cwm_fwd</th>\n",
       "<th>modisco_cwm_rev</th>\n",
       "<th>match0_logo</th>\n",
       "<th>match1_logo</th>\n",
       "<th>match2_logo</th>\n",
       "<th>gene0</th>\n",
       "<th>gene1</th>\n",
       "<th>gene2</th>\n",
       "<th>num_seqlets</th>\n",
       "<th>match0</th>\n",
       "<th>match1</th>\n",
       "<th>match2</th>\n",
       "<th>qval0</th>\n",
       "<th>qval1</th>\n",
       "<th>qval2</th>\n",
       "</tr>\n",
       "<tr>\n",
       "<th>0</th>\n",
       "<td>pos_patterns.pattern_0</td>\n",
       "<td><img src=\"/projectnb/vtrs/joseff/virmpra/results/tfmodisco_scan/modisco_report/trimmed_logos/pos_patterns.pattern_0.cwm.fwd.png\" width=\"240\"/></td>\n",
       "<td><img src=\"/projectnb/vtrs/joseff/virmpra/results/tfmodisco_scan/modisco_report/trimmed_logos/pos_patterns.pattern_0.cwm.rev.png\" width=\"240\"/></td>\n",
       "<td><img src=\"/projectnb/vtrs/joseff/virmpra/results/tfmodisco_scan/modisco_report/dbtfbs__SP5_HepG2_ENCSR019NPF_merged_N1.png\" width=\"240\"/></td>\n",
       "<td><img src=\"/projectnb/vtrs/joseff/virmpra/results/tfmodisco_scan/modisco_report/hocomoco__SP4_HUMAN.H11MO.1.A.png\" width=\"240\"/></td>\n",
       "<td><img src=\"/projectnb/vtrs/joseff/virmpra/results/tfmodisco_scan/modisco_report/jaspar__MA0685.2.png\" width=\"240\"/></td>\n",
       "<td>SP5</td>\n",
       "<td>SP4</td>\n",
       "<td>SP4</td>\n",
       "<td>14061</td>\n",
       "<td>dbtfbs__SP5_HepG2_ENCSR019NPF_merged_N1</td>\n",
       "<td>hocomoco__SP4_HUMAN.H11MO.1.A</td>\n",
       "<td>jaspar__MA0685.2</td>\n",
       "<td>2.616760e-06</td>\n",
       "<td>1.652450e-05</td>\n",
       "<td>2.112980e-05</td>\n",
       "</tr>\n",
       "<tr>\n",
       "<th>1</th>\n",
       "<td>pos_patterns.pattern_1</td>\n",
       "<td><img src=\"/projectnb/vtrs/joseff/virmpra/results/tfmodisco_scan/modisco_report/trimmed_logos/pos_patterns.pattern_1.cwm.fwd.png\" width=\"240\"/></td>\n",
       "<td><img src=\"/projectnb/vtrs/joseff/virmpra/results/tfmodisco_scan/modisco_report/trimmed_logos/pos_patterns.pattern_1.cwm.rev.png\" width=\"240\"/></td>\n",
       "<td><img src=\"/projectnb/vtrs/joseff/virmpra/results/tfmodisco_scan/modisco_report/dbtfbs__JUN_representative_N1.png\" width=\"240\"/></td>\n",
       "<td><img src=\"/projectnb/vtrs/joseff/virmpra/results/tfmodisco_scan/modisco_report/swissregulon__hs__BATF.png\" width=\"240\"/></td>\n",
       "<td><img src=\"/projectnb/vtrs/joseff/virmpra/results/tfmodisco_scan/modisco_report/hocomoco__JUNB_HUMAN.H11MO.0.A.png\" width=\"240\"/></td>\n",
       "<td>JUN</td>\n",
       "<td>BATF</td>\n",
       "<td>JUNB</td>\n",
       "<td>13214</td>\n",
       "<td>dbtfbs__JUN_representative_N1</td>\n",
       "<td>swissregulon__hs__BATF</td>\n",
       "<td>hocomoco__JUNB_HUMAN.H11MO.0.A</td>\n",
       "<td>1.629220e-04</td>\n",
       "<td>1.629220e-04</td>\n",
       "<td>1.629220e-04</td>\n",
       "</tr>\n",
       "</table>"
      ],
      "text/plain": [
       "<IPython.core.display.HTML object>"
      ]
     },
     "execution_count": 2,
     "metadata": {},
     "output_type": "execute_result"
    }
   ],
   "source": [
    "report_path = config.PROCESSED_DIR / \"malinois_K562_modisco_report/motifs_with_logos.html\"\n",
    "# HTML(report_path.read_text(encoding='utf-8'))\n",
    "\n",
    "with open(report_path, encoding='utf-8') as f:\n",
    "    soup = BeautifulSoup(f.read(), \"html.parser\")\n",
    "HTML(\"<table>\\n\" + \"\\n\".join(str(row) for row in soup.find(\"table\").find_all(\"tr\")[:3]) + \"\\n</table>\")\n"
   ]
  },
  {
   "cell_type": "markdown",
   "metadata": {},
   "source": [
    "- K562 TF Motif Logos"
   ]
  },
  {
   "cell_type": "code",
   "execution_count": 3,
   "metadata": {},
   "outputs": [],
   "source": [
    "motif_df = pd.read_csv(config.RESULTS_DIR / 'malinois_K562_tf_motif_families.csv')\n",
    "tf_motifs = motifs.parse_pwm_file(config.RESULTS_DIR / 'malinois_K562_tf_motifs.cb')\n",
    "\n",
    "for motif_id, assigned_tf in motif_df.values:\n",
    "    fwd_motif = tf_motifs[f'{motif_id}_fwd']\n",
    "    fig, ax = plt.subplots(figsize=(6, 3), layout=\"tight\")\n",
    "    cs_matrix = pd.DataFrame(fwd_motif.T, columns=['A', 'C', 'G', 'T'])\n",
    "    logo = logomaker.Logo(cs_matrix, ax=ax, center_values=False)\n",
    "    ax.set_ylim([-1, 1])\n",
    "    ax.set_xlabel('Position')\n",
    "    ax.set_ylabel('IC')\n",
    "    ax.set_title(f'{motif_id} ({assigned_tf})', fontsize=12);\n",
    "    ax.grid(False)\n",
    "    fig.savefig(config.FIGURES_DIR / f'malinois_K562_tf_motifs/{motif_id}.pdf', format='pdf', bbox_inches='tight')\n",
    "    plt.close()"
   ]
  },
  {
   "cell_type": "markdown",
   "metadata": {},
   "source": [
    "### TF–Motif Scan\n",
    "\n",
    "Contribution score arrays are scanned using the K562 motif collection with the script [`tf_motif_annotation.py`](../scripts/tf_motif_annotation.py) to identify motif occurrences.\n",
    "\n",
    "**Example TF–motif map:**\n"
   ]
  },
  {
   "cell_type": "code",
   "execution_count": 4,
   "metadata": {},
   "outputs": [],
   "source": [
    "tf_motifs = motifs.parse_pwm_file(config.RESULTS_DIR / 'malinois_K562_tf_motifs.cb')\n",
    "tf_motif_genes = pd.read_csv(config.RESULTS_DIR / 'malinois_K562_tf_motif_families.csv')\n",
    "\n",
    "contrib_scores_data = np.load(config.PROCESSED_DIR / \"malinois_K562_contribution_scores.npz\", allow_pickle=True)\n",
    "contrib_scores = contrib_scores_data['arr_0']\n",
    "tile_ids = np.concatenate([contrib_scores_data['virus_tile_ids'], contrib_scores_data['dhs_tile_ids']])\n",
    "\n",
    "with open(config.RESULTS_DIR / \"malinois_K562_tf_motif_map.json\", 'r', encoding='utf-8') as f:\n",
    "    tf_motif_map = json.load(f)\n"
   ]
  },
  {
   "cell_type": "code",
   "execution_count": 5,
   "metadata": {},
   "outputs": [],
   "source": [
    "tile_index = 122\n",
    "tile_info = tf_motif_map[tile_index]\n",
    "tile_contribution_scores = contrib_scores[tile_index]\n",
    "\n",
    "fig = plots.motif_annotation_plot(\n",
    "    tf_motifs, tile_info['tile_id'], tile_contribution_scores, tile_info['peak_positions'],\n",
    "    np.array([tile_info['motif_positions']]).swapaxes(0, 1), np.array([tile_info['motifs']]).swapaxes(0, 1),\n",
    "    dict(tf_motif_genes.values)\n",
    ")\n",
    "fig.savefig(config.FIGURES_DIR / f\"contribution_scores_and_motif_map_tile_{tile_index}.pdf\", format=\"pdf\", bbox_inches=\"tight\")\n",
    "plt.close()"
   ]
  },
  {
   "cell_type": "markdown",
   "metadata": {},
   "source": [
    "### TF Binding Site Occurrence Statistics\n",
    "\n",
    "To ensure a consistent procedure across both viral tiles and K562 DHSs, tile MPRA activity is inferred from *Malinois* model predictions.\n",
    "\n",
    "Statistics are precomputed using the script [`tf_motif_statistics.py`](../scripts/tf_motif_statistics.py).\n"
   ]
  },
  {
   "cell_type": "code",
   "execution_count": 6,
   "metadata": {},
   "outputs": [],
   "source": [
    "thresholds_df = pd.read_csv(config.RESULTS_DIR / 'thresholds_malinois_log2_1p.csv')[['cell', 'threshold']]\n",
    "K562_THRESHOLD = thresholds_df[thresholds_df.cell == 'k562'].threshold.iloc[0]\n",
    "paired_tiles = pd.read_csv(config.RESULTS_DIR / \"malinois_predicted_and_observed_activities.csv\")\n",
    "\n",
    "with open(config.RESULTS_DIR / \"malinois_K562_tf_motif_map.json\", 'r', encoding='utf-8') as f:\n",
    "    tile_motif_map = {\n",
    "        tile_map['tile_id']: tile_map\n",
    "        for tile_map in json.load(f)\n",
    "    }\n"
   ]
  },
  {
   "cell_type": "markdown",
   "metadata": {},
   "source": [
    "Sanity Check: *Malinois* K562 MPRA activity predictions match experimental measurements\n"
   ]
  },
  {
   "cell_type": "code",
   "execution_count": 7,
   "metadata": {},
   "outputs": [],
   "source": [
    "fig, ax = plt.subplots(figsize=(7, 7), layout='tight')\n",
    "ax.scatter(paired_tiles[['fwd_lfc', 'rev_lfc']].mean(1), paired_tiles.malinois_k562_lfc, color='cornflowerblue', s=50, alpha=.1)\n",
    "ax.plot([.5, 8.5], [.5, 8.5], color='black')\n",
    "ax.set_xlim([0, 9])\n",
    "ax.set_ylim([0, 9])\n",
    "ax.set_xlabel(r'Experimental K562 $\\log_2 (FC + 1)$')\n",
    "ax.set_ylabel('Malinois model prediction for K562')\n",
    "ax.grid(False)\n",
    "plt.savefig(config.FIGURES_DIR / 'malinois_k562_predictions.pdf', format='pdf', bbox_inches='tight')\n",
    "plt.close()"
   ]
  },
  {
   "cell_type": "markdown",
   "metadata": {},
   "source": [
    "- **Number of Motif Instances per K562-active viral tile or human DHS**\n",
    "\n",
    "  *Note:* DHSs are centered at the position of maximum information content, whereas viral tile positions are arbitrary with respect to cis-regulatory element (CRE) centers. This discrepancy may lead to fewer detected motifs per viral CRE tile compared to human DHSs.\n"
   ]
  },
  {
   "cell_type": "code",
   "execution_count": 8,
   "metadata": {},
   "outputs": [],
   "source": [
    "counts = pd.read_csv(config.RESULTS_DIR / \"malinois_K562_number_tfbs_per_active_tile.csv\").set_index('virus')\n",
    "fractions = counts.div(counts.sum(axis=1), axis=0)\n",
    "fractions.to_csv(config.RESULTS_DIR / \"malinois_k562_number_motifs_per_cre_tile.csv\")\n",
    "\n",
    "fig, ax = plt.subplots(figsize=(10, 20))\n",
    "img = plots.heatmap_with_stats(\n",
    "        ax, fractions, imshow_args={'cmap': 'Reds', 'vmin': 0, 'vmax': .4, 'norm': None},\n",
    "        title_args={'label': 'Number of motifs per CRE tile', 'fontsize': 20}, text_values=counts,\n",
    "    )\n",
    "cbar_ax = fig.add_axes([.92, 0.15, 0.02, 0.7])\n",
    "cbar = fig.colorbar(img, cax=cbar_ax)\n",
    "cbar.set_label(\"Fraction of active tiles\")\n",
    "plt.savefig(config.FIGURES_DIR / 'malinois_k562_number_motifs_per_cre_tile.pdf', format='pdf', bbox_inches='tight')\n",
    "plt.close()\n"
   ]
  },
  {
   "cell_type": "markdown",
   "metadata": {},
   "source": [
    "- Number of motif instances per tile, per TF"
   ]
  },
  {
   "cell_type": "code",
   "execution_count": 9,
   "metadata": {},
   "outputs": [],
   "source": [
    "tfbs_counts_dhs = pd.read_csv(config.RESULTS_DIR / \"malinois_K562_tfbs_counts_dhs.csv\")\n",
    "tfbs_counts_dhs = tfbs_counts_dhs[tfbs_counts_dhs.malinois_k562_lfc >= K562_THRESHOLD]\n",
    "tfbs_counts_tiles = pd.read_csv(config.RESULTS_DIR / \"malinois_K562_tfbs_counts_virus_tiles.csv\")\n",
    "tfbs_counts_tiles = tfbs_counts_tiles[tfbs_counts_tiles.malinois_k562_lfc >= K562_THRESHOLD]\n",
    "\n",
    "grouped_means = tfbs_counts_tiles.groupby(\"virus\")[config.TF_GENES_K562].mean().reindex(config.VIRUSES)\n",
    "dhs_mean = tfbs_counts_dhs[config.TF_GENES_K562].mean().to_frame().T\n",
    "dhs_mean.index = [\"DHS\"]\n",
    "tfbs_counts_df = pd.concat([grouped_means, dhs_mean])\n",
    "tfbs_counts_df.to_csv(config.RESULTS_DIR / \"malinois_k562_number_tfbs_per_cre_tile.csv\")\n",
    "\n",
    "fig, ax = plt.subplots(figsize=(20, 20))\n",
    "img = plots.heatmap_with_stats(\n",
    "        ax, tfbs_counts_df, imshow_args={'cmap': 'Purples', 'vmin': 0, 'vmax': 1.5, 'norm': None},\n",
    "        title_args={'label': 'Number of TFBS per CRE tile', 'fontsize': 20},\n",
    "    )\n",
    "cbar_ax = fig.add_axes([.92, 0.15, 0.02, 0.7])\n",
    "cbar = fig.colorbar(img, cax=cbar_ax)\n",
    "cbar.set_label(\"Number TFBS per tile\")\n",
    "plt.savefig(config.FIGURES_DIR / 'malinois_k562_number_tfbs_per_cre_tile.pdf', format='pdf', bbox_inches='tight')\n",
    "plt.close()"
   ]
  },
  {
   "cell_type": "markdown",
   "metadata": {},
   "source": [
    "- TFBS frequency relative to K562 DHSs"
   ]
  },
  {
   "cell_type": "code",
   "execution_count": 10,
   "metadata": {},
   "outputs": [],
   "source": [
    "pseudocount = 1e-2\n",
    "tfbs_relative_df = (grouped_means + pseudocount).divide((dhs_mean + pseudocount).values, axis=1)\n",
    "tfbs_relative_df = np.log2(tfbs_relative_df)\n",
    "tfbs_relative_df.to_csv(config.RESULTS_DIR / \"malinois_k562_number_tfbs_log2_dhs_ratio.csv\")\n",
    "\n",
    "fig, ax = plt.subplots(figsize=(20, 20))\n",
    "img = plots.heatmap_with_stats(\n",
    "        ax, tfbs_relative_df, imshow_args={'cmap': 'RdBu_r', 'vmin': -3.5, 'vmax': 3.5, 'norm': None},\n",
    "        title_args={'label': r'Number of TFBS per CRE tile, $\\log_2$ (virus / DHS)', 'fontsize': 20},\n",
    "    )\n",
    "cbar_ax = fig.add_axes([.92, 0.15, 0.02, 0.7])\n",
    "cbar = fig.colorbar(img, cax=cbar_ax)\n",
    "cbar.set_label(r\"$\\log_2$ (virus / DHS)\")\n",
    "plt.savefig(config.FIGURES_DIR / 'malinois_k562_number_tfbs_log2_dhs_ratio.pdf', format='pdf', bbox_inches='tight')\n",
    "plt.close()"
   ]
  },
  {
   "cell_type": "markdown",
   "metadata": {},
   "source": [
    "- Motif frequency across Herpesvirus Kinetic Groups"
   ]
  },
  {
   "cell_type": "code",
   "execution_count": 11,
   "metadata": {},
   "outputs": [],
   "source": [
    "herpes_kinetics_df = pd.read_csv(config.RESULTS_DIR / 'herpesvirus_tss_kinetics_tfbs_counts.csv')\n",
    "avg_tfbs_per_group = list()\n",
    "for kinetic_group in config.GENE_KINETIC_GROUPS:\n",
    "    avg_tfbs_per_group.append(herpes_kinetics_df[herpes_kinetics_df[kinetic_group]][config.TF_GENES_K562].mean(0).tolist())\n",
    "avg_tfbs_per_group = pd.DataFrame(np.array(avg_tfbs_per_group).T, columns=config.GENE_KINETIC_GROUPS)\n",
    "avg_tfbs_per_group.insert(0, 'tf_gene', config.TF_GENES_K562)\n",
    "avg_tfbs_per_group.to_csv(config.RESULTS_DIR / 'fig_7D_herpes_tss_kinetics_tfbs_counts.csv', index=False)\n",
    "\n",
    "fig, ax = plt.subplots(figsize=(10, 25))\n",
    "img = plots.heatmap_with_stats(\n",
    "        ax, avg_tfbs_per_group.set_index('tf_gene'), imshow_args={'cmap': 'Reds', 'vmin': 0, 'vmax': 2, 'norm': None},\n",
    "    )\n",
    "cbar_ax = fig.add_axes([.92, 0.15, 0.02, 0.7])\n",
    "cbar = fig.colorbar(img, cax=cbar_ax)\n",
    "cbar.set_label(\"Average number of motifs per promoter\")\n",
    "plt.savefig(config.FIGURES_DIR / 'fig_7D_herpes_tss_kinetics_tfbs_counts.pdf', format='pdf', bbox_inches='tight')\n",
    "plt.close()\n"
   ]
  },
  {
   "cell_type": "markdown",
   "metadata": {},
   "source": [
    "Separately for each virus"
   ]
  },
  {
   "cell_type": "code",
   "execution_count": 12,
   "metadata": {},
   "outputs": [],
   "source": [
    "for name, strain in [\n",
    "    ['HHV-1', 'Herpes Simplex 1, KOS'],\n",
    "    ['HHV-5', 'Human cytomegalovirus'],\n",
    "    ['HHV-8', 'Kaposi Sarcoma (HHV-8)']\n",
    "]:\n",
    "    strain_df = herpes_kinetics_df[herpes_kinetics_df.strain == strain]\n",
    "    group_averages = []\n",
    "    for kinetic_group in config.GENE_KINETIC_GROUPS:\n",
    "        mask = strain_df[kinetic_group]\n",
    "        group_avg = strain_df[mask][config.TF_GENES_K562].mean(0).tolist()\n",
    "        group_averages.append(group_avg)\n",
    "    df = pd.DataFrame(np.array(group_averages).T, columns=config.GENE_KINETIC_GROUPS)\n",
    "    df.insert(0, 'tf_gene', config.TF_GENES_K562)\n",
    "    df.to_csv(config.RESULTS_DIR / f'fig_S7A_{name}_herpes_tss_kinetics_tfbs_counts.csv', index=False)\n"
   ]
  },
  {
   "cell_type": "markdown",
   "metadata": {},
   "source": [
    "- Motif frequency in Coding Regions"
   ]
  },
  {
   "cell_type": "code",
   "execution_count": 13,
   "metadata": {},
   "outputs": [],
   "source": [
    "tfbs_cds_counts = pd.read_csv(config.RESULTS_DIR / 'malinois_K562_number_tfbs_per_cds_kbp.csv')\n",
    "\n",
    "fig, ax = plt.subplots(figsize=(7, 7), layout='tight')\n",
    "ax.scatter(tfbs_cds_counts.not_cds_counts_per_kbp, tfbs_cds_counts.cds_counts_per_kbp, s=150, color='cornflowerblue', alpha=0.7)\n",
    "ax.plot([0, 3.5], [0, 3.5], color='black')\n",
    "top_tfs = tfbs_cds_counts.nlargest(5, 'not_cds_counts_per_kbp')  # TF genes with highest non-CDS motif density\n",
    "for _, row in top_tfs.iterrows():\n",
    "    ax.text(row['not_cds_counts_per_kbp'] + 5e-2, row['cds_counts_per_kbp'] + 5e-2, row['tf_gene'], fontsize=10, weight='bold', ha='left', va='bottom')\n",
    "ax.set_xlabel(\"Not CDS\")\n",
    "ax.set_ylabel(\"CDS\")\n",
    "ax.set_title(\"Number TFBS per 1 kbp\")\n",
    "ax.set_xlim([0, 4])\n",
    "ax.set_ylim([0, 4])\n",
    "ax.grid(False)\n",
    "plt.savefig(config.FIGURES_DIR / \"malinois_k562_tfbs_per_kbp_in_cds.pdf\", format=\"pdf\", bbox_inches=\"tight\")\n",
    "plt.close()\n"
   ]
  },
  {
   "cell_type": "code",
   "execution_count": null,
   "metadata": {},
   "outputs": [],
   "source": []
  }
 ],
 "metadata": {
  "kernelspec": {
   "display_name": "Python 3",
   "language": "python",
   "name": "python3"
  },
  "language_info": {
   "codemirror_mode": {
    "name": "ipython",
    "version": 3
   },
   "file_extension": ".py",
   "mimetype": "text/x-python",
   "name": "python",
   "nbconvert_exporter": "python",
   "pygments_lexer": "ipython3",
   "version": "3.12.9"
  }
 },
 "nbformat": 4,
 "nbformat_minor": 2
}
