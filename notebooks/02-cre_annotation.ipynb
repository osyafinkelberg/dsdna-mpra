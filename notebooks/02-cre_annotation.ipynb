{
 "cells": [
  {
   "cell_type": "code",
   "execution_count": 1,
   "metadata": {},
   "outputs": [],
   "source": [
    "from pathlib import Path\n",
    "import sys\n",
    "\n",
    "import numpy as np\n",
    "import pandas as pd\n",
    "import matplotlib.pyplot as plt\n",
    "from matplotlib.patches import Patch\n",
    "import matplotlib.colors as mcolors\n",
    "import seaborn as sns\n",
    "sns.set_theme(font_scale=1.5, palette='Set2')\n",
    "sns.set_style('whitegrid')\n",
    "\n",
    "%load_ext autoreload\n",
    "%autoreload 2\n",
    "\n",
    "sys.path.insert(0, '..')\n",
    "import dsdna_mpra\n",
    "from dsdna_mpra import config, plots"
   ]
  },
  {
   "cell_type": "markdown",
   "metadata": {},
   "source": [
    "CRE annotation is performed by the script [`cre_annotation.py`](../scripts/cre_annotation.py).\n"
   ]
  },
  {
   "cell_type": "markdown",
   "metadata": {},
   "source": [
    "Total number of CREs identified across all viruses"
   ]
  },
  {
   "cell_type": "code",
   "execution_count": 2,
   "metadata": {},
   "outputs": [
    {
     "name": "stdout",
     "output_type": "stream",
     "text": [
      "Total number of CREs: 2069\n"
     ]
    }
   ],
   "source": [
    "cell_merged_df = pd.read_csv(config.RESULTS_DIR / \"cre_positions_strands_and_cell_merged.csv\")\n",
    "\n",
    "total_n_cres = 0\n",
    "for virus, virus_cres_df in cell_merged_df.groupby(['family', 'strain']):\n",
    "    total_n_cres += virus_cres_df.shape[0]\n",
    "print(f\"Total number of CREs: {total_n_cres}\")\n"
   ]
  },
  {
   "cell_type": "markdown",
   "metadata": {},
   "source": [
    "Number of CREs per cell line per virus"
   ]
  },
  {
   "cell_type": "code",
   "execution_count": 3,
   "metadata": {},
   "outputs": [],
   "source": [
    "genomes_summary = pd.read_csv(config.PROCESSED_DIR / 'summary_virus_genome_records.csv')\n",
    "cres_df = pd.merge(\n",
    "    pd.read_csv(config.RESULTS_DIR / \"cre_positions_strands_merged.csv\"),\n",
    "    genomes_summary[['accession_id', 'genome_size']].rename({'accession_id': 'genome'}, axis=1),\n",
    "    on='genome', how='left'\n",
    ")\n",
    "\n",
    "stats = list()\n",
    "for virus, virus_cres_df in cres_df.groupby(['family', 'strain', 'cell', 'genome']):\n",
    "    n_cres = virus_cres_df.shape[0]\n",
    "    total_size = (virus_cres_df['end'] - virus_cres_df['begin']).sum()\n",
    "    stats.append(list(virus) + [n_cres, total_size, total_size / virus_cres_df.genome_size.iloc[0]])\n",
    "stats = pd.DataFrame(stats, columns=['family', 'strain', 'cell', 'genome', 'n_cres', 'cres_size', 'cres_covered_fraction'])\n",
    "stats.sort_values(['family', 'strain', 'cell', 'n_cres', 'cres_size'], inplace=True)\n",
    "stats.to_csv(config.RESULTS_DIR / 'summary_cre_strands_merged.csv', index=False)\n",
    "\n",
    "stats['virus'] = (stats.family + ', ' + stats.strain).astype('category').cat.set_categories(config.VIRUSES)\n",
    "stats['family'] = stats.family.astype('category').cat.set_categories(config.DSDNA_FAMILIES[::-1])\n"
   ]
  },
  {
   "cell_type": "markdown",
   "metadata": {},
   "source": [
    "**Heatmap:** Number of CREs or fraction of genome covered by CREs per virus -- cell line pair.\n"
   ]
  },
  {
   "cell_type": "code",
   "execution_count": 4,
   "metadata": {},
   "outputs": [],
   "source": [
    "import warnings\n",
    "\n",
    "\n",
    "n_families = stats.family.unique().size\n",
    "n_strains = (stats.value_counts('family', sort=False)).values\n",
    "\n",
    "for col, valtype, colorscale, figtitle, figname, cmap in [\n",
    "    ['n_cres', int, 'symlog', 'Number of CREs', 'number_cres', 'magma'],\n",
    "    ['cres_covered_fraction', float, None, 'Fraction of genome covered by CREs', 'genome_fraction_cres', 'viridis']\n",
    "]:\n",
    "    summary_df = stats.pivot_table(values=col, index=['family', 'strain', 'virus'], columns='cell', observed=True).fillna(0).astype(valtype).reset_index()\n",
    "    summary_df.sort_values(['virus'], kind='stable', inplace=True)\n",
    "    max_val = summary_df[config.CELL_LINES].max().max()\n",
    "    # summary_df.to_excel(config.RESULTS_DIR / f\"summary_strands_merged_{figname}.xlsx\", index=False)\n",
    "\n",
    "    fig, ax = plt.subplots(figsize=(8, 15), nrows=n_families, height_ratios=n_strains)\n",
    "    fig.suptitle(f\"{figtitle}\", fontsize=25)\n",
    "    for fam_ind, (family, fam_n_cres) in enumerate(summary_df.groupby('family', observed=False)):\n",
    "        img = plots.heatmap_with_stats(ax[fam_ind],\n",
    "                                        fam_n_cres.drop(['family', 'virus'], axis=1).set_index('strain'),\n",
    "                                        imshow_args={'cmap': cmap, 'vmin': 0, 'vmax': max_val, 'norm': colorscale},\n",
    "                                        title_args={'label': rf\"${family}$\", 'fontsize': 20})\n",
    "        if fam_ind != 0:\n",
    "            ax[fam_ind].tick_params(axis='x', which='both', top=False, labeltop=False)\n",
    "    fig.subplots_adjust(right=1.2)\n",
    "    cbar_ax = fig.add_axes([1.01, 0.15, 0.02, 0.7])\n",
    "    fig.colorbar(img, cax=cbar_ax)\n",
    "    with warnings.catch_warnings():\n",
    "        warnings.simplefilter(\"ignore\")\n",
    "        plt.tight_layout()\n",
    "    fig.savefig(config.FIGURES_DIR / f\"summary_strands_merged_{figname}.pdf\", bbox_inches='tight', format='pdf')\n",
    "    plt.close()\n"
   ]
  },
  {
   "cell_type": "markdown",
   "metadata": {},
   "source": [
    "### CREs cell type specificity"
   ]
  },
  {
   "cell_type": "markdown",
   "metadata": {},
   "source": [
    "Correlation of CRE tile activity across cell lines is computed in the script [`cre_tile_clustering.py`](../scripts/cre_tile_clustering.py)."
   ]
  },
  {
   "cell_type": "code",
   "execution_count": 5,
   "metadata": {},
   "outputs": [],
   "source": [
    "pcc_matrix = np.load(config.RESULTS_DIR / 'cre_tiles_cell_lines_correlations.npy')\n",
    "\n",
    "fig, ax = plt.subplots(figsize=(8, 7))\n",
    "ordered_by_cluster = [5, 4, 1, 3, 2, 0]  # cells ordered manually\n",
    "heatmap = sns.heatmap(\n",
    "    pcc_matrix[ordered_by_cluster, :][:, ordered_by_cluster],\n",
    "    vmin=0, center=0, vmax=1,\n",
    "    cmap='RdBu_r',\n",
    "    ax=ax,\n",
    "    cbar=True\n",
    ")\n",
    "colorbar = heatmap.collections[0].colorbar\n",
    "colorbar.ax.set_title('PCC', fontsize=14, pad=10)\n",
    "ax.set_xticks(np.arange(6) + .5, np.array(config.CELL_LINES)[ordered_by_cluster], fontsize=10)\n",
    "ax.set_yticks(np.arange(6) + .5, np.array(config.CELL_LINES)[ordered_by_cluster], fontsize=10)\n",
    "ax.set_title('Correlation of CRE tile activity across cell lines')\n",
    "fig.tight_layout()\n",
    "fig.savefig(config.FIGURES_DIR / 'cre_tiles_cell_lines_correlations.pdf', bbox_inches='tight', format='pdf')\n",
    "plt.close()\n"
   ]
  },
  {
   "cell_type": "markdown",
   "metadata": {},
   "source": [
    "**Supervised clustering:** Tiles are grouped into 64 classes based on binary activity patterns across 6 cell lines. Top 20 most frequent classes are plotted.\n"
   ]
  },
  {
   "cell_type": "code",
   "execution_count": 6,
   "metadata": {},
   "outputs": [],
   "source": [
    "coverage_threshold = .8\n",
    "clustering_results = np.load(config.RESULTS_DIR / 'cre_tiles_supervised_clustering.npz')\n",
    "matrix = clustering_results['matrix']\n",
    "borders = clustering_results['final_borders']\n",
    "selected_class_ids = clustering_results['selected_class_ids']\n",
    "\n",
    "fig, ax = plt.subplots(figsize=(7, 15))\n",
    "vcenter = 0.5\n",
    "vmin, vmax = 0, 1\n",
    "colorbar_title = 'activity rank'\n",
    "norm = mcolors.TwoSlopeNorm(vcenter=vcenter, vmin=vmin, vmax=vmax)\n",
    "img = ax.imshow(matrix, norm=norm, cmap='coolwarm', aspect='auto', interpolation='nearest')\n",
    "cbar_ax = fig.add_axes([1.05, 0.15, 0.02, 0.7])\n",
    "cbar = fig.colorbar(img, cax=cbar_ax)\n",
    "cbar.ax.set_title(colorbar_title, x=1.05, y=1.05, fontsize=15)\n",
    "ax.set_xticks(np.arange(matrix.shape[1]))\n",
    "ax.set_xticklabels(config.CELL_LINES, fontsize=12)\n",
    "ax.xaxis.tick_top()\n",
    "ax.tick_params(axis='x', which='both', top=False, labeltop=True)\n",
    "ax.set_yticks(np.arange(0, matrix.shape[0], 500))\n",
    "ax.set_yticklabels(np.arange(0, matrix.shape[0], 500), fontsize=15)\n",
    "ax.yaxis.tick_left()\n",
    "ax.grid(False)\n",
    "for y in borders:\n",
    "    ax.axhline(y=y, linestyle='-', color='black', linewidth=2)\n",
    "ax.set_title(f'{selected_class_ids.size} clusters encompassing {coverage_threshold:.0%} of CRE tiles')\n",
    "ax.set_ylabel('CRE tiles')\n",
    "borders = np.hstack([[0], borders])\n",
    "ax.set_yticks((borders[1:] + borders[:-1]) / 2)\n",
    "ax.set_yticklabels([f'class {i}' for i in range(selected_class_ids.size)], fontsize=8)\n",
    "fig.savefig(config.FIGURES_DIR / 'cre_tiles_supervised_clustering.pdf', bbox_inches='tight', format='pdf')\n",
    "plt.close()"
   ]
  },
  {
   "cell_type": "markdown",
   "metadata": {},
   "source": [
    "The intersection of cell-specific CRE positions (‘partitioned CREs’) is computed in the script [`cre_cell_specificity.py`](../scripts/cre_cell_specificity.py)."
   ]
  },
  {
   "cell_type": "code",
   "execution_count": 7,
   "metadata": {},
   "outputs": [
    {
     "data": {
      "text/html": [
       "<div>\n",
       "<style scoped>\n",
       "    .dataframe tbody tr th:only-of-type {\n",
       "        vertical-align: middle;\n",
       "    }\n",
       "\n",
       "    .dataframe tbody tr th {\n",
       "        vertical-align: top;\n",
       "    }\n",
       "\n",
       "    .dataframe thead th {\n",
       "        text-align: right;\n",
       "    }\n",
       "</style>\n",
       "<table border=\"1\" class=\"dataframe\">\n",
       "  <thead>\n",
       "    <tr style=\"text-align: right;\">\n",
       "      <th></th>\n",
       "      <th>family</th>\n",
       "      <th>strain</th>\n",
       "      <th>genome</th>\n",
       "      <th>begin</th>\n",
       "      <th>end</th>\n",
       "      <th>GM12878</th>\n",
       "      <th>Jurkat</th>\n",
       "      <th>MRC5</th>\n",
       "      <th>A549</th>\n",
       "      <th>HEK293</th>\n",
       "      <th>K562</th>\n",
       "      <th>n_cells</th>\n",
       "    </tr>\n",
       "  </thead>\n",
       "  <tbody>\n",
       "    <tr>\n",
       "      <th>4285</th>\n",
       "      <td>Herpesviridae</td>\n",
       "      <td>Human Herpes 7</td>\n",
       "      <td>AF037218.1</td>\n",
       "      <td>25050</td>\n",
       "      <td>25150</td>\n",
       "      <td>1</td>\n",
       "      <td>0</td>\n",
       "      <td>0</td>\n",
       "      <td>0</td>\n",
       "      <td>0</td>\n",
       "      <td>0</td>\n",
       "      <td>1</td>\n",
       "    </tr>\n",
       "    <tr>\n",
       "      <th>3964</th>\n",
       "      <td>Herpesviridae</td>\n",
       "      <td>Herpes Simplex 2, Strain G</td>\n",
       "      <td>OM370995.1</td>\n",
       "      <td>102300</td>\n",
       "      <td>102400</td>\n",
       "      <td>1</td>\n",
       "      <td>0</td>\n",
       "      <td>0</td>\n",
       "      <td>0</td>\n",
       "      <td>0</td>\n",
       "      <td>0</td>\n",
       "      <td>1</td>\n",
       "    </tr>\n",
       "  </tbody>\n",
       "</table>\n",
       "</div>"
      ],
      "text/plain": [
       "             family                      strain      genome   begin     end  \\\n",
       "4285  Herpesviridae              Human Herpes 7  AF037218.1   25050   25150   \n",
       "3964  Herpesviridae  Herpes Simplex 2, Strain G  OM370995.1  102300  102400   \n",
       "\n",
       "      GM12878  Jurkat  MRC5  A549  HEK293  K562  n_cells  \n",
       "4285        1       0     0     0       0     0        1  \n",
       "3964        1       0     0     0       0     0        1  "
      ]
     },
     "execution_count": 7,
     "metadata": {},
     "output_type": "execute_result"
    }
   ],
   "source": [
    "part_cres_df = pd.read_csv(config.RESULTS_DIR / \"cre_positions_partitioned_cres_strands_merged.csv\")\n",
    "part_cres_df.sample(2, random_state=0)"
   ]
  },
  {
   "cell_type": "markdown",
   "metadata": {},
   "source": [
    "- Size distribution of partitioned CREs  \n"
   ]
  },
  {
   "cell_type": "code",
   "execution_count": 8,
   "metadata": {},
   "outputs": [],
   "source": [
    "max_n_cells = part_cres_df.n_cells.max()\n",
    "fig, ax = plt.subplots(figsize=(14, 7), layout=\"tight\")\n",
    "n_cells_grid = np.arange(1, max_n_cells + 1)\n",
    "for n_cells in n_cells_grid:\n",
    "    cre_tb = part_cres_df[part_cres_df.n_cells == n_cells]\n",
    "    values = cre_tb['end'] - cre_tb['begin']\n",
    "    plots.violin(ax, values, (n_cells - 1) * 1.1, width_factor=15, box_width=1.9e-1)\n",
    "ax.set_ylabel('CRE size, bp')\n",
    "ax.set_xticks((n_cells_grid - 1) * 1)\n",
    "ax.set_xticklabels(n_cells_grid)\n",
    "ax.set_xlabel('# of cells sharing the CRE')\n",
    "ax.set_title('Size Distribution of Partitioned CREs')\n",
    "ax.set_ylim([0, 500])\n",
    "ax.grid(False)\n",
    "plt.savefig(config.FIGURES_DIR / 'partitioned_cre_size_distribution.pdf', bbox_inches=\"tight\", format='pdf')\n",
    "plt.close(fig)\n"
   ]
  },
  {
   "cell_type": "markdown",
   "metadata": {},
   "source": [
    "* Cell-specificity of partitioned CREs"
   ]
  },
  {
   "cell_type": "code",
   "execution_count": 9,
   "metadata": {},
   "outputs": [],
   "source": [
    "PART_CRES_SIZE_THRESHOLD = 200\n",
    "size_filter = (part_cres_df['end'] - part_cres_df['begin']) >= PART_CRES_SIZE_THRESHOLD\n",
    "part_cres_df = part_cres_df[size_filter]\n",
    "\n",
    "colors = {1: 'bisque', 2: 'lightsalmon', 3: 'tomato', 4: 'red', 5: 'firebrick', 6: 'darkred'}\n",
    "spec_tb = part_cres_df.value_counts(['family', 'strain', 'n_cells']).to_frame().reset_index().rename({'count': 'n_cres'}, axis=1)\n",
    "spec_tb['color'] = np.vectorize(colors.get)(spec_tb.n_cells)\n",
    "spec_tb['virus'] = (spec_tb.family + ', ' + spec_tb.strain).astype('category').cat.set_categories(config.VIRUSES)\n",
    "spec_tb.family = spec_tb.family.astype('category').cat.set_categories(config.DSDNA_FAMILIES[::-1])\n",
    "spec_tb.sort_values(['family', 'virus', 'n_cells'], ascending=[True, True, False], inplace=True)\n"
   ]
  },
  {
   "cell_type": "code",
   "execution_count": 10,
   "metadata": {},
   "outputs": [],
   "source": [
    "n_families = spec_tb['family'].nunique()\n",
    "n_strains = spec_tb.groupby('family', sort=False, observed=False)['strain'].nunique().values\n",
    "yticks_step = {'Herpesviridae': 50, 'Adenoviridae': 10, 'Papillomaviridae': 2, 'Polyomaviridae': 1}\n",
    "\n",
    "fig, axes = plt.subplots(\n",
    "    nrows=1, ncols=n_families, figsize=(4 * n_families + 5, 10),\n",
    "    gridspec_kw={'width_ratios': n_strains}\n",
    ")\n",
    "fig.suptitle(\"Number of Partitioned CREs Shared Across X Cell Lines\", fontsize=16)\n",
    "\n",
    "if n_families == 1:\n",
    "    axes = [axes]\n",
    "\n",
    "for fam_idx, (family, group_df) in enumerate(spec_tb.groupby('family', sort=False, observed=False)):\n",
    "    legend_title = '# cells' if fam_idx == 0 else None\n",
    "\n",
    "    plots.stacked_bar_plot(\n",
    "        ax=axes[fam_idx],\n",
    "        dataframe=group_df,\n",
    "        x_value='strain',\n",
    "        hue='n_cells',\n",
    "        weight='n_cres',\n",
    "        color='color',\n",
    "        legend_title=legend_title,\n",
    "        normalize_weights=False\n",
    "    )\n",
    "    axes[fam_idx].set_title(family, fontsize=15)\n",
    "\n",
    "    max_height = group_df.groupby('strain')['n_cres'].sum().max()\n",
    "    yticks = np.arange(0, max_height * 1.2, yticks_step.get(family, 1))\n",
    "    axes[fam_idx].set_yticks(yticks)\n",
    "    axes[fam_idx].set_yticklabels(yticks.astype(int))\n",
    "\n",
    "    if fam_idx == 0:\n",
    "        axes[fam_idx].set_ylabel('# of shared CREs', fontsize=15)\n",
    "        legend_handles = [\n",
    "            Patch(facecolor=color, edgecolor=color, label=label) for label, color in colors.items()\n",
    "        ]\n",
    "        axes[fam_idx].legend(handles=legend_handles, title='# cells', bbox_to_anchor=(-0.42, 1), loc='upper left')\n",
    "\n",
    "fig.tight_layout()\n",
    "fig.savefig(config.FIGURES_DIR / 'partitioned_cres_shared_by_cell_lines.pdf', format='pdf', bbox_inches='tight')\n",
    "plt.close(fig)\n"
   ]
  },
  {
   "cell_type": "code",
   "execution_count": null,
   "metadata": {},
   "outputs": [],
   "source": []
  }
 ],
 "metadata": {
  "kernelspec": {
   "display_name": "Python 3",
   "language": "python",
   "name": "python3"
  },
  "language_info": {
   "codemirror_mode": {
    "name": "ipython",
    "version": 3
   },
   "file_extension": ".py",
   "mimetype": "text/x-python",
   "name": "python",
   "nbconvert_exporter": "python",
   "pygments_lexer": "ipython3",
   "version": "3.12.9"
  }
 },
 "nbformat": 4,
 "nbformat_minor": 2
}
