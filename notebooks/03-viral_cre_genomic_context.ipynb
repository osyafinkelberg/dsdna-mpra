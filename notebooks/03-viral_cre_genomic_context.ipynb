{
 "cells": [
  {
   "cell_type": "code",
   "execution_count": 1,
   "metadata": {},
   "outputs": [],
   "source": [
    "from pathlib import Path\n",
    "import sys\n",
    "\n",
    "import numpy as np\n",
    "import pandas as pd\n",
    "import scipy.stats as sps\n",
    "import matplotlib.pyplot as plt\n",
    "import seaborn as sns\n",
    "sns.set_theme(font_scale=1.5, palette='Set2')\n",
    "sns.set_style('whitegrid')\n",
    "\n",
    "%load_ext autoreload\n",
    "%autoreload 2\n",
    "\n",
    "sys.path.insert(0, '..')\n",
    "import dsdna_mpra\n",
    "from dsdna_mpra import config, plots"
   ]
  },
  {
   "cell_type": "markdown",
   "metadata": {},
   "source": [
    "GenBank feature annotations are downloaded using the [`download_genbank_features.py`](../scripts/download_genbank_features.py) script.\n",
    "\n",
    "Overlaps between genomic features, tiles, and CREs are computed using the [`cre_genomic_feature_overlap.py`](../scripts/cre_genomic_feature_overlap.py) script.\n",
    "\n",
    "\n",
    "**Note**: The 'expected' overlap is calculated under a null model in which CRE positions are assumed to be uniformly randomly distributed across the genome.\n"
   ]
  },
  {
   "cell_type": "markdown",
   "metadata": {},
   "source": [
    "### Overlap with Coding Regions"
   ]
  },
  {
   "cell_type": "markdown",
   "metadata": {},
   "source": [
    "Tile activity stratified by coding vs. non-coding regions, as annotated in GenBank records\n"
   ]
  },
  {
   "cell_type": "code",
   "execution_count": 2,
   "metadata": {},
   "outputs": [
    {
     "data": {
      "text/html": [
       "<div>\n",
       "<style scoped>\n",
       "    .dataframe tbody tr th:only-of-type {\n",
       "        vertical-align: middle;\n",
       "    }\n",
       "\n",
       "    .dataframe tbody tr th {\n",
       "        vertical-align: top;\n",
       "    }\n",
       "\n",
       "    .dataframe thead th {\n",
       "        text-align: right;\n",
       "    }\n",
       "</style>\n",
       "<table border=\"1\" class=\"dataframe\">\n",
       "  <thead>\n",
       "    <tr style=\"text-align: right;\">\n",
       "      <th></th>\n",
       "      <th>family</th>\n",
       "      <th>strain</th>\n",
       "      <th>cell</th>\n",
       "      <th>genome</th>\n",
       "      <th>begin</th>\n",
       "      <th>fwd_lfc</th>\n",
       "      <th>rev_lfc</th>\n",
       "      <th>tile_id</th>\n",
       "      <th>threshold</th>\n",
       "      <th>tile_lfc</th>\n",
       "      <th>end</th>\n",
       "      <th>cell_rank</th>\n",
       "      <th>is_cds</th>\n",
       "      <th>virus</th>\n",
       "    </tr>\n",
       "  </thead>\n",
       "  <tbody>\n",
       "    <tr>\n",
       "      <th>211684</th>\n",
       "      <td>Papillomaviridae</td>\n",
       "      <td>Type 11</td>\n",
       "      <td>MRC5</td>\n",
       "      <td>M14119.1</td>\n",
       "      <td>2600</td>\n",
       "      <td>1.078173</td>\n",
       "      <td>0.930253</td>\n",
       "      <td>Papilloma_Virus:Type_11:53:+;Papilloma_Virus:T...</td>\n",
       "      <td>1.800548</td>\n",
       "      <td>1.078173</td>\n",
       "      <td>2800</td>\n",
       "      <td>0.279405</td>\n",
       "      <td>True</td>\n",
       "      <td>Papillomaviridae, Type 11</td>\n",
       "    </tr>\n",
       "  </tbody>\n",
       "</table>\n",
       "</div>"
      ],
      "text/plain": [
       "                  family   strain  cell    genome  begin   fwd_lfc   rev_lfc  \\\n",
       "211684  Papillomaviridae  Type 11  MRC5  M14119.1   2600  1.078173  0.930253   \n",
       "\n",
       "                                                  tile_id  threshold  \\\n",
       "211684  Papilloma_Virus:Type_11:53:+;Papilloma_Virus:T...   1.800548   \n",
       "\n",
       "        tile_lfc   end  cell_rank  is_cds                      virus  \n",
       "211684  1.078173  2800   0.279405    True  Papillomaviridae, Type 11  "
      ]
     },
     "execution_count": 2,
     "metadata": {},
     "output_type": "execute_result"
    }
   ],
   "source": [
    "paired_tiles_cds = pd.read_csv(config.RESULTS_DIR / \"virus_paired_tiles_cds_overlap.csv\")\n",
    "paired_tiles_cds['virus'] = (paired_tiles_cds.family + ', ' + paired_tiles_cds.strain).astype('category').cat.set_categories(config.VIRUSES)\n",
    "paired_tiles_cds.family = paired_tiles_cds.family.astype('category').cat.set_categories(config.DSDNA_FAMILIES[::-1])\n",
    "paired_tiles_cds.cell = paired_tiles_cds.cell.astype('category').cat.set_categories(config.CELL_LINES)\n",
    "paired_tiles_cds.sample(1, random_state=0)"
   ]
  },
  {
   "cell_type": "markdown",
   "metadata": {},
   "source": [
    "Heatmap: median cell activity rank of CDS vs. non-CDS tiles"
   ]
  },
  {
   "cell_type": "code",
   "execution_count": 3,
   "metadata": {},
   "outputs": [],
   "source": [
    "grouped = (\n",
    "    paired_tiles_cds\n",
    "    .groupby(['family', 'virus', 'cell', 'is_cds'], observed=True)['cell_rank']\n",
    "    .median()\n",
    "    .reset_index()\n",
    ")\n",
    "grouped['cds_label'] = grouped['is_cds'].map({False: 'not CDS', True: 'CDS'})\n",
    "grouped['cell_is_cds'] = grouped['cell'].astype(str) + ', ' + grouped['cds_label']\n",
    "sorted_cells = list(paired_tiles_cds['cell'].cat.categories)\n",
    "\n",
    "column_order = []\n",
    "for cell in sorted_cells:\n",
    "    column_order.append(f\"{cell}, not CDS\")\n",
    "    column_order.append(f\"{cell}, CDS\")\n",
    "\n",
    "heatmap_data = grouped.pivot_table(\n",
    "    index=['family', 'virus'],\n",
    "    columns='cell_is_cds',\n",
    "    values='cell_rank',\n",
    "    observed=False\n",
    ")\n",
    "heatmap_data = heatmap_data.sort_index(level=['family', 'virus'])\n",
    "heatmap_data.index = heatmap_data.index.droplevel('family')\n",
    "existing_cols = [col for col in column_order if col in heatmap_data.columns]\n",
    "heatmap_data = heatmap_data[existing_cols]\n",
    "\n",
    "plt.figure(figsize=(20, 15))\n",
    "ax = sns.heatmap(heatmap_data, cmap='viridis', linewidths=0.5, linecolor='gray')\n",
    "ax.set_yticks(np.arange(len(heatmap_data)) + 0.5)\n",
    "ax.set_yticklabels(heatmap_data.index.tolist(), rotation=0)\n",
    "colorbar = ax.collections[0].colorbar\n",
    "colorbar.set_label(\"median cell activity rank\")\n",
    "ax.set_xlabel(\"\")\n",
    "ax.set_ylabel(\"\")\n",
    "ax.grid(False)\n",
    "plt.savefig(config.FIGURES_DIR / \"tiles_cds_overlap_median_rank_activity.pdf\", format=\"pdf\", bbox_inches=\"tight\")\n",
    "plt.close()"
   ]
  },
  {
   "cell_type": "markdown",
   "metadata": {},
   "source": [
    "Distribution of cell activity rank of CDS vs. non-CDS tiles"
   ]
  },
  {
   "cell_type": "code",
   "execution_count": 4,
   "metadata": {},
   "outputs": [],
   "source": [
    "CELL = 'K562'\n",
    "cell_tiles = paired_tiles_cds[paired_tiles_cds.cell == CELL].copy()\n",
    "\n",
    "fig, ax = plt.subplots(figsize=(35, 15), layout=\"tight\")\n",
    "n_viruses = len(config.VIRUSES)\n",
    "X_STEP = 6\n",
    "CDS_OFFSET = 2  # space between not-CDS and CDS\n",
    "major_xticks = []\n",
    "minor_xticks = []\n",
    "minor_labels = []\n",
    "for virus_idx, (virus, virus_tb) in enumerate(cell_tiles.groupby('virus', observed=True)):\n",
    "    base_x = virus_idx * X_STEP\n",
    "    not_cds_x = base_x\n",
    "    cds_x = base_x + CDS_OFFSET\n",
    "    not_cds = virus_tb[~virus_tb.is_cds].tile_lfc.values\n",
    "    cds = virus_tb[virus_tb.is_cds].tile_lfc.values\n",
    "    plots.violin(ax, not_cds, not_cds_x, width_factor=1, box_width=.1)\n",
    "    plots.violin(ax, cds, cds_x, width_factor=1, box_width=.1)\n",
    "    major_xticks.append((not_cds_x + cds_x) / 2)\n",
    "    minor_xticks.extend([not_cds_x, cds_x])\n",
    "    minor_labels.extend(['not CDS', 'CDS'])\n",
    "ax.set_ylim([0, 8])\n",
    "ax.set_ylabel(r'$\\log_2 (FC + 1)$')\n",
    "ax.tick_params(which='major', pad=20)\n",
    "ax.set_xticks(major_xticks)\n",
    "ax.set_xticklabels(config.VIRUSES, rotation=90)\n",
    "ax.set_xticks(minor_xticks, minor=True)\n",
    "ax.set_xticklabels(minor_labels, minor=True, rotation=90, fontsize=15)\n",
    "plt.savefig(config.FIGURES_DIR / \"tiles_cds_overlap_rank_activity_distribution.pdf\", format=\"pdf\", bbox_inches=\"tight\")\n",
    "plt.close()\n"
   ]
  },
  {
   "cell_type": "markdown",
   "metadata": {},
   "source": [
    "Fraction of viral CREs in CDSs: observed vs. expected fractions"
   ]
  },
  {
   "cell_type": "code",
   "execution_count": 5,
   "metadata": {},
   "outputs": [],
   "source": [
    "cres_cds_fractions_df = pd.read_csv(config.RESULTS_DIR / \"cres_in_cds_fractions.csv\")\n",
    "\n",
    "fig, ax = plt.subplots(figsize=(10, 10), layout=\"tight\")\n",
    "ax.set_title('Fraction of viral CREs in CDSs', fontsize=30)\n",
    "for family, fraction_df in cres_cds_fractions_df.groupby('family', sort=True, observed=True):\n",
    "    ax.scatter(fraction_df.expected, fraction_df.observed, alpha=.7, s=250, color=config.DSDNA_FAMILY_COLORS[family], label=family)  # add outline: edgecolor='black'\n",
    "ax.plot([0, 1], [0, 1], ls='-', color='black')\n",
    "ax.legend(fontsize=20, loc='upper left')\n",
    "ax.set_xlabel('Expected', fontsize=25)\n",
    "ax.set_xticks(np.arange(0, 1.2, .2))\n",
    "ax.set_xticklabels(np.round(np.arange(0, 1.2, .2), 2), fontsize=20)\n",
    "ax.set_yticks(np.arange(0, 1.2, .2))\n",
    "ax.set_yticklabels(np.round(np.arange(0, 1.2, .2), 2), fontsize=20)\n",
    "ax.set_ylabel('Observed', fontsize=25)\n",
    "ax.grid(False)\n",
    "plt.savefig(config.FIGURES_DIR / 'fraction_cres_in_coding_regions.pdf', bbox_inches='tight', format='pdf')\n",
    "plt.close()"
   ]
  },
  {
   "cell_type": "markdown",
   "metadata": {},
   "source": [
    "### Distances from CREs to GenBank gene start positions"
   ]
  },
  {
   "cell_type": "markdown",
   "metadata": {},
   "source": [
    "Fraction of viral CREs proximal to GenBank gene start positions: observed vs. expected fractions"
   ]
  },
  {
   "cell_type": "code",
   "execution_count": 6,
   "metadata": {},
   "outputs": [],
   "source": [
    "cres_tss_fractions_df = pd.read_csv(config.RESULTS_DIR / \"cres_proximal_to_gene_starts_fractions.csv\")\n",
    "\n",
    "fig, ax = plt.subplots(figsize=(10, 10), layout=\"tight\")\n",
    "ax.set_title('Fraction of viral CREs proximal to GenBank gene starts', fontsize=25)\n",
    "for family, fraction_df in cres_tss_fractions_df.groupby('family', sort=True, observed=True):\n",
    "    ax.scatter(fraction_df.expected, fraction_df.observed, alpha=.7, s=250, color=config.DSDNA_FAMILY_COLORS[family], label=family)  # add outline: edgecolor='black'\n",
    "ax.plot([0, 1], [0, 1], ls='-', color='black')\n",
    "ax.legend(fontsize=20, loc='upper left')\n",
    "ax.set_xlabel('Expected', fontsize=25)\n",
    "ax.set_xticks(np.arange(0, 1.2, .2))\n",
    "ax.set_xticklabels(np.round(np.arange(0, 1.2, .2), 2), fontsize=20)\n",
    "ax.set_yticks(np.arange(0, 1.2, .2))\n",
    "ax.set_yticklabels(np.round(np.arange(0, 1.2, .2), 2), fontsize=20)\n",
    "ax.set_ylabel('Observed', fontsize=25)\n",
    "ax.grid(False)\n",
    "plt.savefig(config.FIGURES_DIR / 'fraction_cres_proximal_to_gene_starts.pdf', bbox_inches='tight', format='pdf')\n",
    "plt.close()"
   ]
  },
  {
   "cell_type": "markdown",
   "metadata": {},
   "source": [
    "**Fraction of GenBank gene start positions proximal to CREs: observed vs. expected**\n",
    "\n",
    "The approximate expected value is calculated as  \n",
    "$T \\cdot \\left[ 1 - \\left(1 - \\frac{2 R}{G}\\right)^C \\right]$,  \n",
    "where:\n",
    "- $T$ is the number of transcription start sites (TSSs),\n",
    "- $R$ is the TSS context size (`PROXIMITY_RANGE`, e.g., 250 bp),\n",
    "- $G$ is the genome size, and\n",
    "- $C$ is the number of CREs.\n",
    "\n",
    "This formula is an approximation based on the assumption that TSS and CRE positions are independently and uniformly distributed across the genome.\n"
   ]
  },
  {
   "cell_type": "code",
   "execution_count": 7,
   "metadata": {},
   "outputs": [],
   "source": [
    "CELL = 'HEK293'\n",
    "\n",
    "tss_cres_fractions_df = pd.read_csv(config.RESULTS_DIR / f\"gene_starts_proximal_to_cres_fractions_{CELL.lower()}.csv\")\n",
    "\n",
    "fig, ax = plt.subplots(figsize=(10, 10), layout=\"tight\")\n",
    "ax.set_title('Fraction of GenBank gene starts proximal to viral CREs', fontsize=25)\n",
    "for family, fraction_df in tss_cres_fractions_df.groupby('family', sort=True, observed=True):\n",
    "    ax.scatter(fraction_df.expected, fraction_df.observed, alpha=.7, s=250, color=config.DSDNA_FAMILY_COLORS[family], label=family)  # add outline: edgecolor='black'\n",
    "ax.plot([0, 1], [0, 1], ls='-', color='black')\n",
    "ax.legend(fontsize=20, loc='upper right')\n",
    "ax.set_xlabel('Expected', fontsize=25)\n",
    "ax.set_xticks(np.arange(0, 1.2, .2))\n",
    "ax.set_xticklabels(np.round(np.arange(0, 1.2, .2), 2), fontsize=20)\n",
    "ax.set_yticks(np.arange(0, 1.2, .2))\n",
    "ax.set_yticklabels(np.round(np.arange(0, 1.2, .2), 2), fontsize=20)\n",
    "ax.set_ylabel('Observed', fontsize=25)\n",
    "ax.grid(False)\n",
    "plt.savefig(config.FIGURES_DIR / 'fraction_gene_starts_proximal_to_cres.pdf', bbox_inches='tight', format='pdf')\n",
    "plt.close()"
   ]
  },
  {
   "cell_type": "markdown",
   "metadata": {},
   "source": [
    "### Comparison with CAGE-seq Datasets\n",
    "\n",
    "The following datasets were used for comparison (processed in the [`process_cage_datasets.py`](../scripts/process_cage_datasets.py) script):\n",
    "\n",
    "| Virus (Name)                               | Experimental Methods                      | Cell Line(s)                         | PMID        | Viral Genome Accession (GenBank ID) | Source             |\n",
    "|-------------------------------------------|-------------------------------------------|--------------------------------------|-------------|--------------------------------------|---------------------|\n",
    "| HHV-1 (Herpes simplex virus 1)            | RNA-seq, cRNA-seq, dRNA-seq               | HFF                                   | 32341360    | BK012101.1                           | GenBank record      |\n",
    "| HHV-3 (Varicella-zoster virus)            | CAGE-seq, RNA-seq                         | ARPE-19                               | 33024035    | NC_001348.1                          | Table S1            |\n",
    "| HHV-4 (Epstein–Barr virus)                | CAGE-seq                                  | HEK293                                | 29864140    | V01555.2                             | Table S1            |\n",
    "| HHV-8 (Kaposi’s sarcoma-associated herpesvirus) | CAGE-seq, long-read sequencing (LRS) | PEL, hESC-derived neurons             | 38206015    | GQ994935.1                           | Supplemental Tables |\n"
   ]
  },
  {
   "cell_type": "code",
   "execution_count": 8,
   "metadata": {},
   "outputs": [],
   "source": [
    "paired_tiles_tss = pd.read_csv(config.RESULTS_DIR / \"virus_paired_tiles_cage_peaks_overlap.csv\")\n",
    "\n",
    "for virus, genome in [\n",
    "    ['HHV-1', 'BK012101.1'], ['HHV-3', 'NC_001348.1'], ['HHV-4', 'V01555.2'], ['HHV-8', 'GQ994935.1']\n",
    "]:\n",
    "    df = paired_tiles_tss[paired_tiles_tss['genome'] == genome]\n",
    "    fig, axes = plt.subplots(2, 3, figsize=(15, 10), sharey=True, layout=\"tight\")\n",
    "    axes = axes.flatten()\n",
    "    POS_STEP = 7e1\n",
    "    for i, cell in enumerate(config.CELL_LINES):\n",
    "        ax = axes[i]\n",
    "        cell_df = df[df['cell'] == cell]\n",
    "        tss_ranks = cell_df[cell_df['is_cage_peak']]['cell_rank'].values.astype(np.float64)\n",
    "        not_tss_ranks = cell_df[~cell_df['is_cage_peak']]['cell_rank'].values.astype(np.float64)\n",
    "        plots.violin(ax, tss_ranks, pos=-POS_STEP, box_width=25, violincolor='red')\n",
    "        plots.violin(ax, not_tss_ranks, pos=POS_STEP, box_width=25, violincolor='red')\n",
    "        stat, p = sps.mannwhitneyu(tss_ranks, not_tss_ranks, alternative='two-sided')\n",
    "        ax.set_title(f'{cell} ({p:.4e})')\n",
    "        ax.set_xticks([-POS_STEP, POS_STEP])\n",
    "        ax.set_xticklabels(['TSS', 'not TSS'])\n",
    "        ax.set_xlabel('')\n",
    "        if i % 3 == 0:\n",
    "            ax.set_ylabel('Cell activity rank')\n",
    "        ax.grid(False)\n",
    "    fig.suptitle(f'Five-prime dataset for {virus} (Mann-Whitney U p-values)', fontsize=16)\n",
    "    plt.savefig(\n",
    "        config.FIGURES_DIR / f\"tiles_cage_overlap_rank_activity_distribution_{virus}.pdf\",\n",
    "        format=\"pdf\", bbox_inches=\"tight\"\n",
    "    )\n",
    "    plt.close()\n"
   ]
  },
  {
   "cell_type": "markdown",
   "metadata": {},
   "source": [
    "Stratified by both CDS and CAGE-peak overlap pattern"
   ]
  },
  {
   "cell_type": "code",
   "execution_count": 9,
   "metadata": {},
   "outputs": [],
   "source": [
    "paired_tiles_tss = pd.read_csv(config.RESULTS_DIR / \"virus_paired_tiles_cage_peaks_overlap.csv\")\n",
    "\n",
    "for virus, genome in [\n",
    "    ['HHV-1', 'BK012101.1'], ['HHV-3', 'NC_001348.1'], ['HHV-4', 'V01555.2'], ['HHV-8', 'GQ994935.1']\n",
    "]:\n",
    "    df = paired_tiles_tss[paired_tiles_tss['genome'] == genome]\n",
    "    fig, axes = plt.subplots(2, 3, figsize=(18, 10), sharey=True, layout=\"tight\")\n",
    "    axes = axes.flatten()\n",
    "    POS_STEP = 1.3e2\n",
    "    for i, cell in enumerate(config.CELL_LINES):\n",
    "        ax = axes[i]\n",
    "        cell_df = df[df['cell'] == cell]\n",
    "        conditions = [\n",
    "            (True, False),   # TSS, not CDS\n",
    "            (False, False),  # not TSS, not CDS\n",
    "            (True, True),    # TSS, CDS\n",
    "            (False, True),   # not TSS, CDS\n",
    "        ]\n",
    "        xticks = []\n",
    "        xticklabels = []\n",
    "        all_ranks = []\n",
    "        for j, (is_tss, is_cds) in enumerate(conditions):\n",
    "            subset = cell_df[(cell_df['is_cage_peak'] == is_tss) & (cell_df['is_cds'] == is_cds)]\n",
    "            ranks = subset['cell_rank'].values.astype(np.float64)\n",
    "            plots.violin(ax, ranks, pos=(j - 1.5) * POS_STEP, bw_method=.2, box_width=25, violincolor='red')\n",
    "            all_ranks.append(ranks)\n",
    "            xticks.append((j - 1.5) * POS_STEP)\n",
    "            xticklabels.append(f\"{'TSS' if is_tss else 'not TSS'}\\n{'CDS' if is_cds else 'not CDS'}\")\n",
    "        # statistical test: TSS vs not TSS, across all CDS statuses\n",
    "        tss_ranks = cell_df[cell_df['is_cage_peak'] == True]['cell_rank'].values.astype(np.float64)\n",
    "        not_tss_ranks = cell_df[cell_df['is_cage_peak'] == False]['cell_rank'].values.astype(np.float64)\n",
    "        stat, p = sps.mannwhitneyu(tss_ranks, not_tss_ranks, alternative='two-sided')\n",
    "        ax.set_title(f'{cell} ({p:.2e})')\n",
    "        ax.set_xticks(xticks)\n",
    "        ax.set_xticklabels(xticklabels)\n",
    "        ax.set_xlabel('')\n",
    "        if i % 3 == 0:\n",
    "            ax.set_ylabel('Cell activity rank')\n",
    "        ax.grid(False)\n",
    "\n",
    "    fig.suptitle(f'Five-prime dataset for {virus} (Mann-Whitney U p-values)', fontsize=16)\n",
    "    plt.savefig(\n",
    "        config.FIGURES_DIR / f\"tiles_cage_cds_overlap_rank_activity_distribution_{virus}.pdf\",\n",
    "        format=\"pdf\", bbox_inches=\"tight\"\n",
    "    )\n",
    "    plt.close()\n"
   ]
  },
  {
   "cell_type": "markdown",
   "metadata": {},
   "source": [
    "### MPRA Activity Across Herpesvirus Kinetic Groups\n",
    "\n",
    "Gene kinetic classifications were primarily based on *Fields Virology* (Knipe & Howley, 6th ed., 2013). When annotations were missing or outdated, we supplemented them with peer-reviewed sources listed in the supplementary table.\n"
   ]
  },
  {
   "cell_type": "code",
   "execution_count": 10,
   "metadata": {},
   "outputs": [
    {
     "data": {
      "text/html": [
       "<div>\n",
       "<style scoped>\n",
       "    .dataframe tbody tr th:only-of-type {\n",
       "        vertical-align: middle;\n",
       "    }\n",
       "\n",
       "    .dataframe tbody tr th {\n",
       "        vertical-align: top;\n",
       "    }\n",
       "\n",
       "    .dataframe thead th {\n",
       "        text-align: right;\n",
       "    }\n",
       "</style>\n",
       "<table border=\"1\" class=\"dataframe\">\n",
       "  <thead>\n",
       "    <tr style=\"text-align: right;\">\n",
       "      <th></th>\n",
       "      <th>strain</th>\n",
       "      <th>genome</th>\n",
       "      <th>gene_name</th>\n",
       "      <th>strand</th>\n",
       "      <th>five_prime</th>\n",
       "      <th>IE</th>\n",
       "      <th>E</th>\n",
       "      <th>E/L</th>\n",
       "      <th>L</th>\n",
       "      <th>Latent</th>\n",
       "    </tr>\n",
       "  </thead>\n",
       "  <tbody>\n",
       "    <tr>\n",
       "      <th>549</th>\n",
       "      <td>Kaposi Sarcoma (HHV-8)</td>\n",
       "      <td>MZ712172.1</td>\n",
       "      <td>HHV8_gs01</td>\n",
       "      <td>+</td>\n",
       "      <td>28820</td>\n",
       "      <td>False</td>\n",
       "      <td>True</td>\n",
       "      <td>False</td>\n",
       "      <td>False</td>\n",
       "      <td>False</td>\n",
       "    </tr>\n",
       "    <tr>\n",
       "      <th>502</th>\n",
       "      <td>Kaposi Sarcoma (HHV-8)</td>\n",
       "      <td>MZ712172.1</td>\n",
       "      <td>ORF29</td>\n",
       "      <td>-</td>\n",
       "      <td>54775</td>\n",
       "      <td>False</td>\n",
       "      <td>False</td>\n",
       "      <td>False</td>\n",
       "      <td>True</td>\n",
       "      <td>False</td>\n",
       "    </tr>\n",
       "  </tbody>\n",
       "</table>\n",
       "</div>"
      ],
      "text/plain": [
       "                     strain      genome  gene_name strand  five_prime     IE  \\\n",
       "549  Kaposi Sarcoma (HHV-8)  MZ712172.1  HHV8_gs01      +       28820  False   \n",
       "502  Kaposi Sarcoma (HHV-8)  MZ712172.1      ORF29      -       54775  False   \n",
       "\n",
       "         E    E/L      L  Latent  \n",
       "549   True  False  False   False  \n",
       "502  False  False   True   False  "
      ]
     },
     "execution_count": 10,
     "metadata": {},
     "output_type": "execute_result"
    }
   ],
   "source": [
    "HERPESVIRUSES = [nm.removeprefix('Herpesviridae, ') for nm in config.VIRUSES if nm.startswith('Herpesviridae')]\n",
    "herpes_kinetics_df = pd.read_csv(config.RAW_DIR / 'herpesvirus_tss_kinetics_manual_annotation.csv')\n",
    "herpes_kinetics_df.sample(2, random_state=0)\n"
   ]
  },
  {
   "cell_type": "markdown",
   "metadata": {},
   "source": [
    "Find the maximum cell MPRA activity rank between all tiles whose midpoint resides within the $\\pm 250$ promoter proximity region. For each kinetic group plot the average of these values across all promoters."
   ]
  },
  {
   "cell_type": "code",
   "execution_count": 11,
   "metadata": {},
   "outputs": [],
   "source": [
    "herpes_kinetics_stats_df = herpes_kinetics_df.drop(['genome', 'gene_name', 'strand', 'five_prime'], axis=1).groupby('strain').sum(0).reset_index()\n",
    "herpes_kinetics_activity_df = pd.read_csv(config.RESULTS_DIR / 'herpesvirus_tss_kinetics_average_cell_rank.csv')\n",
    "\n",
    "fig, axes = plt.subplots(figsize=(28, 14), nrows=2, ncols=4)\n",
    "for strain_idx, strain in enumerate(HERPESVIRUSES):\n",
    "    ax = axes[strain_idx // 4, strain_idx % 4]\n",
    "    stats = herpes_kinetics_stats_df[herpes_kinetics_stats_df.strain == strain][config.GENE_KINETIC_GROUPS].values\n",
    "    stats = np.tile(stats, len(config.CELL_LINES)).reshape(len(config.CELL_LINES), -1)\n",
    "    ranks_df = herpes_kinetics_activity_df[herpes_kinetics_activity_df.strain == strain].drop('strain', axis=1)\n",
    "    img = plots.heatmap_with_stats(\n",
    "        ax, ranks_df.set_index('cell'), imshow_args={'cmap': 'RdBu_r', 'vmin': .7, 'vmax': 1, 'norm': None},\n",
    "        title_args={'label': strain, 'fontsize': 20}, text_values=stats,\n",
    "    )\n",
    "    if strain_idx == 3:\n",
    "        cbar_ax = fig.add_axes([.92, 0.15, 0.02, 0.7])\n",
    "        cbar = fig.colorbar(img, cax=cbar_ax)\n",
    "        cbar.set_label(\"Tile cell activity rank\")\n",
    "    ax.set_xticklabels(config.GENE_KINETIC_GROUPS, fontsize=15)\n",
    "plt.subplots_adjust(wspace=0.25)\n",
    "fig.savefig(config.FIGURES_DIR / 'herpesvirus_tss_kinetics_stats.pdf', bbox_inches=\"tight\", format=\"pdf\")\n",
    "plt.close()\n"
   ]
  },
  {
   "cell_type": "markdown",
   "metadata": {},
   "source": [
    "**Gene Kinetic Classification of Epstein–Barr Virus (HHV-4)**\n",
    "\n",
    "This analysis is based on the gene expression kinetics reported by Reza Djavadian *et al.* (2018), PMID: [29864140](https://pubmed.ncbi.nlm.nih.gov/29864140). The study categorizes Epstein–Barr Virus (EBV, Human herpesvirus 4) genes into kinetic classes based on temporal expression profiles during the lytic cycle.\n"
   ]
  },
  {
   "cell_type": "code",
   "execution_count": 12,
   "metadata": {},
   "outputs": [],
   "source": [
    "HHV4_KINETICS = ['early', 'leaky', 'late', 'latent']\n",
    "hhv4_kinetics = pd.read_csv(config.RESULTS_DIR / 'hhv4_cage_pmid_29864140_kinetics_cell_ranks.csv')\n",
    "hhv4_kinetics.kinetics = hhv4_kinetics.kinetics.astype('category').cat.set_categories(HHV4_KINETICS)\n",
    "hhv4_kinetics.cell = hhv4_kinetics.cell.astype('category').cat.set_categories(config.CELL_LINES)\n",
    "\n",
    "hhv4_kinetics_stats = hhv4_kinetics[['cell', 'kinetics', 'max_cell_rank']].groupby(['cell', 'kinetics'], observed=False).size().reset_index().rename({0: 'counts'}, axis=1)\n",
    "hhv4_kinetics_stats = hhv4_kinetics_stats.pivot(columns='kinetics', index='cell', values='counts').reset_index(drop=True).values\n",
    "hhv4_kinetics_activity = hhv4_kinetics[['cell', 'kinetics', 'max_cell_rank']].groupby(['cell', 'kinetics'], observed=False).mean('max_cell_rank').reset_index()\n",
    "hhv4_kinetics_activity = hhv4_kinetics_activity.pivot(columns='kinetics', index='cell', values='max_cell_rank').reset_index().set_index('cell')\n",
    "\n",
    "fig, ax = plt.subplots(figsize=(4, 4))\n",
    "img = plots.heatmap_with_stats(\n",
    "    ax, hhv4_kinetics_activity, imshow_args={'cmap': 'RdBu_r', 'vmin': .7, 'vmax': 1, 'norm': None},\n",
    "    title_args={'label': 'Epstein Barr Virus (HHV-4)', 'fontsize': 20}, text_values=hhv4_kinetics_stats,\n",
    ")\n",
    "cbar_ax = fig.add_axes([.92, 0.15, 0.02, 0.7])\n",
    "cbar = fig.colorbar(img, cax=cbar_ax)\n",
    "cbar.set_label(\"Tile cell activity rank\")\n",
    "ax.set_xticklabels(HHV4_KINETICS, fontsize=15)\n",
    "fig.savefig(config.FIGURES_DIR / 'hhv4_cage_pmid_29864140_kinetics_stats.pdf', bbox_inches=\"tight\", format=\"pdf\")\n",
    "plt.close()\n"
   ]
  },
  {
   "cell_type": "code",
   "execution_count": null,
   "metadata": {},
   "outputs": [],
   "source": []
  }
 ],
 "metadata": {
  "kernelspec": {
   "display_name": "Python 3",
   "language": "python",
   "name": "python3"
  },
  "language_info": {
   "codemirror_mode": {
    "name": "ipython",
    "version": 3
   },
   "file_extension": ".py",
   "mimetype": "text/x-python",
   "name": "python",
   "nbconvert_exporter": "python",
   "pygments_lexer": "ipython3",
   "version": "3.12.9"
  }
 },
 "nbformat": 4,
 "nbformat_minor": 2
}
